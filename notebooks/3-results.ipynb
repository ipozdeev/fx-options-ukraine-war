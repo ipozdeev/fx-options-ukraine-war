{
 "cells": [
  {
   "cell_type": "markdown",
   "metadata": {},
   "source": [
    "The following notebook implements the calculations described in [methodology](notebooks/2-methodology.ipynb) across all datetimes, whenever there are enough observations. For each datetime, the a SABR smile is calibrated (involving multiple iterations of least squares), then numerical differentiation is performed, then integration (twice, the second time to normalize the density), such that the whole program can take a long time to finish. The results are stored as a .csv file [here](../output/estimates/prob-nonparam.csv)."
   ]
  },
  {
   "cell_type": "code",
   "execution_count": 3,
   "metadata": {},
   "outputs": [],
   "source": [
    "import sys; sys.path.append(\"..\")  # to be able to access src/\n",
    "\n",
    "import os\n",
    "import pandas as pd\n",
    "from scipy.integrate import simpson\n",
    "import numpy as np\n",
    "from pathlib import Path\n",
    "from tqdm import tqdm\n",
    "import matplotlib.pyplot as plt\n",
    "\n",
    "from optools.smile import SABR\n",
    "\n",
    "from src.visuals import format_dataframe"
   ]
  },
  {
   "cell_type": "code",
   "execution_count": 4,
   "metadata": {},
   "outputs": [],
   "source": [
    "# settings\n",
    "DATA_PATH = Path(\"../data\")\n",
    "MATURITY = 1/12\n",
    "DATES = slice(\"2022-01-25\", \"2022-02-24\")\n",
    "EXAMPLE_DATE = \"2022-02-24 03:48:00+01:00\"\n",
    "\n",
    "plt.style.use(\"seaborn-v0_8-colorblind\")"
   ]
  },
  {
   "cell_type": "markdown",
   "metadata": {},
   "source": [
    "# data"
   ]
  },
  {
   "cell_type": "code",
   "execution_count": 5,
   "metadata": {},
   "outputs": [
    {
     "data": {
      "text/html": [
       "<style type=\"text/css\">\n",
       "</style>\n",
       "<table id=\"T_ea95c\">\n",
       "  <thead>\n",
       "    <tr>\n",
       "      <th id=\"T_ea95c_level0_col0\" class=\"col_heading level0 col0\" >date</th>\n",
       "      <th id=\"T_ea95c_level0_col1\" class=\"col_heading level0 col1\" >contract</th>\n",
       "      <th id=\"T_ea95c_level0_col2\" class=\"col_heading level0 col2\" >value</th>\n",
       "    </tr>\n",
       "  </thead>\n",
       "  <tbody>\n",
       "    <tr>\n",
       "      <td id=\"T_ea95c_row0_col0\" class=\"data row0 col0\" >2022-02-24 03:48</td>\n",
       "      <td id=\"T_ea95c_row0_col1\" class=\"data row0 col1\" >forward</td>\n",
       "      <td id=\"T_ea95c_row0_col2\" class=\"data row0 col2\" >82.1610</td>\n",
       "    </tr>\n",
       "    <tr>\n",
       "      <td id=\"T_ea95c_row1_col0\" class=\"data row1 col0\" >2022-02-24 03:48</td>\n",
       "      <td id=\"T_ea95c_row1_col1\" class=\"data row1 col1\" >r_base</td>\n",
       "      <td id=\"T_ea95c_row1_col2\" class=\"data row1 col2\" >0.0023</td>\n",
       "    </tr>\n",
       "    <tr>\n",
       "      <td id=\"T_ea95c_row2_col0\" class=\"data row2 col0\" >2022-02-24 03:48</td>\n",
       "      <td id=\"T_ea95c_row2_col1\" class=\"data row2 col1\" >spot</td>\n",
       "      <td id=\"T_ea95c_row2_col2\" class=\"data row2 col2\" >81.2420</td>\n",
       "    </tr>\n",
       "    <tr>\n",
       "      <td id=\"T_ea95c_row3_col0\" class=\"data row3 col0\" >2022-02-24 03:48</td>\n",
       "      <td id=\"T_ea95c_row3_col1\" class=\"data row3 col1\" >v_10b</td>\n",
       "      <td id=\"T_ea95c_row3_col2\" class=\"data row3 col2\" >0.0747</td>\n",
       "    </tr>\n",
       "    <tr>\n",
       "      <td id=\"T_ea95c_row4_col0\" class=\"data row4 col0\" >2022-02-24 03:48</td>\n",
       "      <td id=\"T_ea95c_row4_col1\" class=\"data row4 col1\" >v_10r</td>\n",
       "      <td id=\"T_ea95c_row4_col2\" class=\"data row4 col2\" >0.2661</td>\n",
       "    </tr>\n",
       "    <tr>\n",
       "      <td id=\"T_ea95c_row5_col0\" class=\"data row5 col0\" >2022-02-24 03:48</td>\n",
       "      <td id=\"T_ea95c_row5_col1\" class=\"data row5 col1\" >v_25b</td>\n",
       "      <td id=\"T_ea95c_row5_col2\" class=\"data row5 col2\" >0.0150</td>\n",
       "    </tr>\n",
       "    <tr>\n",
       "      <td id=\"T_ea95c_row6_col0\" class=\"data row6 col0\" >2022-02-24 03:48</td>\n",
       "      <td id=\"T_ea95c_row6_col1\" class=\"data row6 col1\" >v_25r</td>\n",
       "      <td id=\"T_ea95c_row6_col2\" class=\"data row6 col2\" >0.1221</td>\n",
       "    </tr>\n",
       "    <tr>\n",
       "      <td id=\"T_ea95c_row7_col0\" class=\"data row7 col0\" >2022-02-24 03:48</td>\n",
       "      <td id=\"T_ea95c_row7_col1\" class=\"data row7 col1\" >v_atm</td>\n",
       "      <td id=\"T_ea95c_row7_col2\" class=\"data row7 col2\" >0.3583</td>\n",
       "    </tr>\n",
       "    <tr>\n",
       "      <td id=\"T_ea95c_row8_col0\" class=\"data row8 col0\" >2022-02-24 03:48</td>\n",
       "      <td id=\"T_ea95c_row8_col1\" class=\"data row8 col1\" >r_counter</td>\n",
       "      <td id=\"T_ea95c_row8_col2\" class=\"data row8 col2\" >0.1293</td>\n",
       "    </tr>\n",
       "  </tbody>\n",
       "</table>\n"
      ],
      "text/plain": [
       "<pandas.io.formats.style.Styler at 0x7f7e57579a50>"
      ]
     },
     "execution_count": 5,
     "metadata": {},
     "output_type": "execute_result"
    }
   ],
   "source": [
    "data = pd.read_feather(DATA_PATH / \"processed\" / \"data.ftr\")\n",
    "\n",
    "# the dat alooks like this\n",
    "format_dataframe(data.query(f\"date == @EXAMPLE_DATE\"), precision=4)"
   ]
  },
  {
   "cell_type": "code",
   "execution_count": 6,
   "metadata": {},
   "outputs": [],
   "source": [
    "# pivot for convenience, keep contracts with expiry > announcement date\n",
    "data = data.pivot(index=\"date\", columns=\"contract\", values=\"value\")\\\n",
    "    .loc[DATES].dropna()    "
   ]
  },
  {
   "cell_type": "markdown",
   "metadata": {},
   "source": [
    "In the end we would like to iterate over the datetime values in `data`. Let's define a function that will for each row in the pivoted `data` calibrate a SABR smile."
   ]
  },
  {
   "cell_type": "code",
   "execution_count": 7,
   "metadata": {},
   "outputs": [
    {
     "data": {
      "image/png": "[encoded data removed]",
      "text/plain": [
       "<Figure size 640x480 with 1 Axes>"
      ]
     },
     "metadata": {},
     "output_type": "display_data"
    }
   ],
   "source": [
    "def sabr_getter(chunk: pd.Series):\n",
    "    \"\"\"Get SABR specification from a chunk of data.\"\"\"\n",
    "    sabr = SABR.fit_to_fx(\n",
    "        tau=MATURITY,\n",
    "        v_atm=chunk[\"v_atm\"],\n",
    "        contracts={0.1: {\"ms\": chunk[\"v_10b\"],\n",
    "                         \"rr\": chunk[\"v_10r\"]},\n",
    "                   0.25: {\"ms\": chunk[\"v_25b\"],\n",
    "                         \"rr\": chunk[\"v_25r\"]}},\n",
    "        delta_conventions={\"atm_def\": \"dns\",\n",
    "                           \"is_premiumadj\": True,\n",
    "                           \"is_forward\": False},\n",
    "        **chunk[[\"spot\", \"forward\", \"r_counter\"]])\n",
    "    return sabr\n",
    "\n",
    "\n",
    "sabr_getter(data.loc[EXAMPLE_DATE]).plot(domain=np.arange(50, 100))\n",
    "plt.grid(axis=\"both\")\n",
    "plt.show()"
   ]
  },
  {
   "cell_type": "markdown",
   "metadata": {},
   "source": [
    "Since calibration of SABR smiles is time-consuming, we will store the calibrated parameters for each datetime to a .csv file. We will be able to reuse these parameters when calculating $P[S>h]$ for different values of $h$."
   ]
  },
  {
   "cell_type": "code",
   "execution_count": 8,
   "metadata": {},
   "outputs": [],
   "source": [
    "if \"sabr-estimated-parameters.csv\" in os.listdir(\"../data/interim/\"):\n",
    "    # load\n",
    "    par = pd.read_csv(\n",
    "        \"../data/interim/sabr-estimated-parameters.csv\",\n",
    "        index_col=0, parse_dates=True\n",
    "    ).loc[DATES]\n",
    "    \n",
    "    par[\"forward\"] = data.loc[par.index, \"forward\"]\n",
    "    \n",
    "    sabrs = par.apply(\n",
    "        lambda _row: SABR(tau=MATURITY, **_row),\n",
    "        axis=1\n",
    "    ).squeeze()\n",
    "else:\n",
    "    # calibrate and save all SABRs (takes ~45 min)\n",
    "    sabrs = {}\n",
    "    for _t, _row in tqdm(data.iterrows()):\n",
    "        try:\n",
    "            sabrs[_t] = sabr_getter(_row)\n",
    "        except:\n",
    "            continue\n",
    "\n",
    "    sabrs = pd.Series(sabrs)\n",
    "\n",
    "    # save all parameters (except `forward` which is from bloomberg)\n",
    "    pd.DataFrame.from_records(\n",
    "        sabrs.map(lambda _x: [_x.volvol, _x.init_vola, _x.rho, _x.beta]),\n",
    "        index=sabrs.index,\n",
    "        columns=[\"volvol\", \"init_vola\", \"rho\", \"beta\"]\n",
    "    )\\\n",
    "        .rename_axis(index=\"date\")\\\n",
    "        .to_csv(\"../data/interim/sabr-estimated-parameters.csv\")"
   ]
  },
  {
   "cell_type": "markdown",
   "metadata": {},
   "source": [
    "Given a volatility smile, we can estimate the probability of the underlying breaching a certain threshold: let's define a function for this which we could later apply to all smiles."
   ]
  },
  {
   "cell_type": "code",
   "execution_count": 9,
   "metadata": {},
   "outputs": [
    {
     "name": "stdout",
     "output_type": "stream",
     "text": [
      "0.33885237440881066\n"
     ]
    }
   ],
   "source": [
    "def prob_estimator(smile, r_counter, threshold):\n",
    "    \"\"\"Estimate risk-neutral probability of S > `threshold`.\"\"\"\n",
    "    # get rnd\n",
    "    k_range = np.arange(smile.forward / 2, smile.forward * 1.75, 1e-04)\n",
    "    rnd = smile.estimate_risk_neutral_density(\n",
    "        rf=r_counter, forward=smile.forward,\n",
    "        domain=k_range, normalize=True\n",
    "    )\n",
    "\n",
    "    # integrate rnd; two strikes are lost during differentiation\n",
    "    idx = k_range[1:-1] > threshold\n",
    "\n",
    "    # integrate over the range of strikes from threshold to 'infinity'\n",
    "    res = simpson(rnd[idx], k_range[1:-1][idx])\n",
    "\n",
    "    return res\n",
    "\n",
    "print(\n",
    "    prob_estimator(\n",
    "        sabrs.loc[EXAMPLE_DATE],\n",
    "        data.loc[EXAMPLE_DATE, \"r_counter\"],\n",
    "        threshold=85\n",
    "    )\n",
    ")"
   ]
  },
  {
   "cell_type": "markdown",
   "metadata": {},
   "source": [
    "And, finally, let's apply this function to all observations for a range of thresholds. This will take a long time, so we save the output, as with the SABR values before."
   ]
  },
  {
   "cell_type": "code",
   "execution_count": 10,
   "metadata": {},
   "outputs": [],
   "source": [
    "# if already estimated and stored\n",
    "if \"probability.csv\" in os.listdir(\"../output/estimates\"):\n",
    "    p = pd.read_csv(\"../output/estimates/probability.csv\", \n",
    "                    index_col=0)\\\n",
    "        .rename(columns=int, index=pd.to_datetime)\n",
    "else:\n",
    "    # else, estimate - takes ~ 30 min per threshold\n",
    "    p = pd.DataFrame(\n",
    "        index=data.loc[DATES].index,\n",
    "        columns=np.arange(85, 105, 5)\n",
    "    )\n",
    "\n",
    "    for _h in p.columns:\n",
    "        for _t, _s in tqdm(sabrs.loc[\"2022-01-24\":\"2022-01-31\"].items()):\n",
    "            p.loc[_t, _h] = prob_estimator(\n",
    "                _s, data.loc[_t, \"r_counter\"], _h\n",
    "            )\n",
    "\n",
    "    # save\n",
    "    p.rename_axis(columns=\"threshold\")\\\n",
    "        .to_csv(\"../output/estimates/probability.csv\")"
   ]
  }
 ],
 "metadata": {
  "kernelspec": {
   "display_name": "fx-options-ukraine-war-T2SXmAIO-py3.10",
   "language": "python",
   "name": "python3"
  },
  "language_info": {
   "codemirror_mode": {
    "name": "ipython",
    "version": 3
   },
   "file_extension": ".py",
   "mimetype": "text/x-python",
   "name": "python",
   "nbconvert_exporter": "python",
   "pygments_lexer": "ipython3",
   "version": "3.10.12"
  }
 },
 "nbformat": 4,
 "nbformat_minor": 2
}
