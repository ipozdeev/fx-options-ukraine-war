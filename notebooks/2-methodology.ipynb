{
 "cells": [
  {
   "cell_type": "markdown",
   "metadata": {},
   "source": [
    "In what follows we will walk an interested reader through the calculations."
   ]
  },
  {
   "cell_type": "markdown",
   "metadata": {},
   "source": [
    "# risk-neutral probability\n",
    "The probability that the spot rate exceeds a certain threshold is found &ndash; no surprize here &ndash; by integrating the density of the spot rate from that threshold to infinity. The (risk-neutral) density can be estimated using the well-known result from [Breeden and Litzenberger (1978)](https://www.jstor.org/stable/2352653?seq=1#metadata_info_tab_contents): assuming that the price of a plain vanilla call option on an underlying asset $S$ at strike $K$ is given by function $C(S,K,\\ldots)$, the risk-neutral density of $S$ is proportional to the second derivative of this function w.r.t. $K$:\n",
    "$$q(S) \\propto \\frac{\\partial^2 C(S,K,\\ldots)}{\\partial K^2},$$ \n",
    "\n",
    "with the proportionality constant equal to $\\exp{r_c \\tau}$, though it is just as easy to normalize the obtained density to make it sum up to 1."
   ]
  },
  {
   "cell_type": "markdown",
   "metadata": {},
   "source": [
    "# option pricing function\n",
    "Function $C$ is unknown in general, but luckily, we do not need a general form to estimate its second derivative numerically &ndash; sufficient is that we can compute the value of $C$ for any strike. This can be achieved by interpolating the few observed market option prices or &ndash; an even better idea &ndash; by converting these prices to Black-Scholes (BS) implied volatilities, interpolating those, and getting the prices back using the BS formula. This way, $C$ becomes:\n",
    "\n",
    "$$C(S, K, \\ldots) = C^{bs}(S, \\hat{\\sigma}(K), K, \\ldots),$$\n",
    "\n",
    "where $\\hat{\\sigma}$ is a volatility smile function. Note that this does not assume the BS model is correct, only that it can be used to transform prices into something more conducive to interpolation. A good choice of the interpolating function for volatilities is a smile model such as SABR, which we will use in what follows. But what are the market values that we observe?"
   ]
  },
  {
   "cell_type": "markdown",
   "metadata": {},
   "source": [
    "# option contracts\n",
    "As it turns out, these are not option prices, but quotes of standard option contracts of a fixed delta, such as \"at-the-money\" contracts, \"butterfly spreads\" (aka \"market strangles\") and \"risk reversals\". The exact definitions of these differ between currency pairs, and we refer the reader to the excellent book [\"Foreign Exchange Option Pricing: A Practitioner's Guide\"](https://books.google.ch/books?id=7vua-0-2sgMC&redir_esc=y) by Iain Clark for further details. The quotes are related to the implied volatilities of the instruments' constituents; together with the spot and forward price and the interest rate in the base currency they allow to calibrate a SABR volatility smile. The calibration process is tricky, as described in ch. 3.7.1 of [Clark (2011)](https://books.google.ch/books?id=7vua-0-2sgMC&redir_esc=y), and in addition to data requires information about FX conventions for USDRUB, such as the definition of \"at-the-money\" and \"delta\". These can be found in Bloomberg."
   ]
  },
  {
   "cell_type": "markdown",
   "metadata": {},
   "source": [
    "# example\n",
    "We will calculate the probability, as implied by market prices on 24-Feb-2022 03:48am Zurich time, that USDRUB exceeds a certain value when the 1-month contracts mature.\n",
    "\n",
    "In what follows, `v_atm` denotes the quote of the at-the-money contract, `v_10b` (`v_25b`) &ndash; those of the 10-delta (25-delta) market strangle and `v_10r` (`v_25r`) &ndash; the IV of the 10-delta (25-delta) risk reversal."
   ]
  },
  {
   "cell_type": "code",
   "execution_count": 1,
   "metadata": {},
   "outputs": [],
   "source": [
    "import sys; sys.path.append(\"..\")\n",
    "\n",
    "import pandas as pd\n",
    "import numpy as np\n",
    "from pathlib import Path\n",
    "import matplotlib.pyplot as plt\n",
    "import ipywidgets as widgets\n",
    "from ipywidgets import interact, fixed"
   ]
  },
  {
   "cell_type": "code",
   "execution_count": 2,
   "metadata": {},
   "outputs": [],
   "source": [
    "DATA_PATH = Path(\"../data\")\n",
    "MATURITY = 1/12  # maturity (approx) of options in the dataset, in years\n",
    "\n",
    "plt.style.use(\"seaborn-v0_8-colorblind\")"
   ]
  },
  {
   "cell_type": "code",
   "execution_count": 3,
   "metadata": {},
   "outputs": [
    {
     "data": {
      "text/html": [
       "<style type=\"text/css\">\n",
       "</style>\n",
       "<table id=\"T_f00eb\">\n",
       "  <thead>\n",
       "    <tr>\n",
       "      <th class=\"blank level0\" >&nbsp;</th>\n",
       "      <th id=\"T_f00eb_level0_col0\" class=\"col_heading level0 col0\" >2022-02-24 03:48:00+01:00</th>\n",
       "    </tr>\n",
       "    <tr>\n",
       "      <th class=\"index_name level0\" >contract</th>\n",
       "      <th class=\"blank col0\" >&nbsp;</th>\n",
       "    </tr>\n",
       "  </thead>\n",
       "  <tbody>\n",
       "    <tr>\n",
       "      <th id=\"T_f00eb_level0_row0\" class=\"row_heading level0 row0\" >forward</th>\n",
       "      <td id=\"T_f00eb_row0_col0\" class=\"data row0 col0\" >82.1610</td>\n",
       "    </tr>\n",
       "    <tr>\n",
       "      <th id=\"T_f00eb_level0_row1\" class=\"row_heading level0 row1\" >r_base</th>\n",
       "      <td id=\"T_f00eb_row1_col0\" class=\"data row1 col0\" >0.0023</td>\n",
       "    </tr>\n",
       "    <tr>\n",
       "      <th id=\"T_f00eb_level0_row2\" class=\"row_heading level0 row2\" >r_counter</th>\n",
       "      <td id=\"T_f00eb_row2_col0\" class=\"data row2 col0\" >0.1293</td>\n",
       "    </tr>\n",
       "    <tr>\n",
       "      <th id=\"T_f00eb_level0_row3\" class=\"row_heading level0 row3\" >spot</th>\n",
       "      <td id=\"T_f00eb_row3_col0\" class=\"data row3 col0\" >81.2420</td>\n",
       "    </tr>\n",
       "    <tr>\n",
       "      <th id=\"T_f00eb_level0_row4\" class=\"row_heading level0 row4\" >v_10b</th>\n",
       "      <td id=\"T_f00eb_row4_col0\" class=\"data row4 col0\" >0.0747</td>\n",
       "    </tr>\n",
       "    <tr>\n",
       "      <th id=\"T_f00eb_level0_row5\" class=\"row_heading level0 row5\" >v_10r</th>\n",
       "      <td id=\"T_f00eb_row5_col0\" class=\"data row5 col0\" >0.2661</td>\n",
       "    </tr>\n",
       "    <tr>\n",
       "      <th id=\"T_f00eb_level0_row6\" class=\"row_heading level0 row6\" >v_25b</th>\n",
       "      <td id=\"T_f00eb_row6_col0\" class=\"data row6 col0\" >0.0150</td>\n",
       "    </tr>\n",
       "    <tr>\n",
       "      <th id=\"T_f00eb_level0_row7\" class=\"row_heading level0 row7\" >v_25r</th>\n",
       "      <td id=\"T_f00eb_row7_col0\" class=\"data row7 col0\" >0.1221</td>\n",
       "    </tr>\n",
       "    <tr>\n",
       "      <th id=\"T_f00eb_level0_row8\" class=\"row_heading level0 row8\" >v_atm</th>\n",
       "      <td id=\"T_f00eb_row8_col0\" class=\"data row8 col0\" >0.3583</td>\n",
       "    </tr>\n",
       "  </tbody>\n",
       "</table>\n"
      ],
      "text/plain": [
       "<pandas.io.formats.style.Styler at 0x7f81018b5360>"
      ]
     },
     "execution_count": 3,
     "metadata": {},
     "output_type": "execute_result"
    }
   ],
   "source": [
    "# data\n",
    "data = pd.read_csv(DATA_PATH / \"processed\" / \"data-example.csv\")\\\n",
    "    .pivot(index=\"date\", columns=\"contract\", values=\"value\")\\\n",
    "    .iloc[0]\n",
    "\n",
    "data.to_frame().style.format(precision=4)"
   ]
  },
  {
   "cell_type": "markdown",
   "metadata": {},
   "source": [
    "Let's fit a SABR smile to these values and plot it for a range of strikes."
   ]
  },
  {
   "cell_type": "code",
   "execution_count": 4,
   "metadata": {},
   "outputs": [
    {
     "data": {
      "image/png": "[encoded data removed]",
      "text/plain": [
       "<Figure size 640x480 with 1 Axes>"
      ]
     },
     "metadata": {},
     "output_type": "display_data"
    }
   ],
   "source": [
    "from optools.smile import SABR\n",
    "\n",
    "# collect contracts as {delta: {market strangle: iv, risk reversal: iv}}\n",
    "contracts={\n",
    "    0.10: {\n",
    "        \"ms\": data[\"v_10b\"],\n",
    "        \"rr\": data[\"v_10r\"]\n",
    "    },\n",
    "    0.25: {\n",
    "        \"ms\": data[\"v_25b\"],\n",
    "        \"rr\": data[\"v_25r\"]\n",
    "    }\n",
    "}\n",
    "\n",
    "# fit\n",
    "sabr = SABR.fit_to_fx(\n",
    "    tau=MATURITY,\n",
    "    v_atm=data[\"v_atm\"],\n",
    "    contracts=contracts,\n",
    "    delta_conventions={\"atm_def\": \"dns\",\n",
    "                       \"is_premiumadj\": True,\n",
    "                       \"is_forward\": False},\n",
    "    **data[[\"spot\", \"forward\", \"r_counter\", \"r_base\"]]\n",
    ")\n",
    "\n",
    "# plot\n",
    "fig, ax = sabr.plot(domain=np.arange(50, 100))\n",
    "ax.set_xlabel(\"strike\")\n",
    "ax.set_ylabel(\"iv\")\n",
    "ax.grid(axis=\"both\")\n",
    "ax.set_title(\"SABR vola smile\")\n",
    "plt.show()"
   ]
  },
  {
   "cell_type": "markdown",
   "metadata": {},
   "source": [
    "Looks great! Now, with this smile at hand, we can compute the price of call options at any strike."
   ]
  },
  {
   "cell_type": "code",
   "execution_count": 5,
   "metadata": {},
   "outputs": [
    {
     "data": {
      "text/html": [
       "<style type=\"text/css\">\n",
       "</style>\n",
       "<table id=\"T_236fd\">\n",
       "  <thead>\n",
       "    <tr>\n",
       "      <th class=\"blank level0\" >&nbsp;</th>\n",
       "      <th id=\"T_236fd_level0_col0\" class=\"col_heading level0 col0\" >strike</th>\n",
       "      <th id=\"T_236fd_level0_col1\" class=\"col_heading level0 col1\" >iv</th>\n",
       "      <th id=\"T_236fd_level0_col2\" class=\"col_heading level0 col2\" >c_price</th>\n",
       "    </tr>\n",
       "  </thead>\n",
       "  <tbody>\n",
       "    <tr>\n",
       "      <th id=\"T_236fd_level0_row0\" class=\"row_heading level0 row0\" >0</th>\n",
       "      <td id=\"T_236fd_row0_col0\" class=\"data row0 col0\" >85.00</td>\n",
       "      <td id=\"T_236fd_row0_col1\" class=\"data row0 col1\" >0.39</td>\n",
       "      <td id=\"T_236fd_row0_col2\" class=\"data row0 col2\" >2.51</td>\n",
       "    </tr>\n",
       "    <tr>\n",
       "      <th id=\"T_236fd_level0_row1\" class=\"row_heading level0 row1\" >1</th>\n",
       "      <td id=\"T_236fd_row1_col0\" class=\"data row1 col0\" >95.00</td>\n",
       "      <td id=\"T_236fd_row1_col1\" class=\"data row1 col1\" >0.50</td>\n",
       "      <td id=\"T_236fd_row1_col2\" class=\"data row1 col2\" >1.02</td>\n",
       "    </tr>\n",
       "    <tr>\n",
       "      <th id=\"T_236fd_level0_row2\" class=\"row_heading level0 row2\" >2</th>\n",
       "      <td id=\"T_236fd_row2_col0\" class=\"data row2 col0\" >100.00</td>\n",
       "      <td id=\"T_236fd_row2_col1\" class=\"data row2 col1\" >0.54</td>\n",
       "      <td id=\"T_236fd_row2_col2\" class=\"data row2 col2\" >0.70</td>\n",
       "    </tr>\n",
       "  </tbody>\n",
       "</table>\n"
      ],
      "text/plain": [
       "<pandas.io.formats.style.Styler at 0x7f81017af4c0>"
      ]
     },
     "execution_count": 5,
     "metadata": {},
     "output_type": "execute_result"
    }
   ],
   "source": [
    "from optools.blackscholes import option_price\n",
    "\n",
    "def option_pricer(_k):\n",
    "    \"\"\"Equation in #option_pricing_function above.\"\"\"\n",
    "    _res = option_price(\n",
    "        strike=_k, vola=sabr(_k), forward=data[\"forward\"],\n",
    "        rf=data[\"r_counter\"], tau=MATURITY, is_call=True\n",
    "    )\n",
    "    return _res\n",
    "\n",
    "# some strikes\n",
    "k_new = np.array([85, 95, 100.0])\n",
    "\n",
    "# implied vola for each strike\n",
    "iv_new = sabr(k_new)\n",
    "\n",
    "# call option price for (k, iv) pairs\n",
    "c_price = option_pricer(k_new)\n",
    "\n",
    "pd.DataFrame({\"strike\": k_new, \"iv\": iv_new, \"c_price\": c_price})\\\n",
    "    .style.format(precision=2)"
   ]
  },
  {
   "cell_type": "markdown",
   "metadata": {},
   "source": [
    "This is enough to calculate the numerical second derivative as $\\frac{(C(K+\\Delta K) - C(K)) - (C(K) - C(K-\\Delta K))}{\\Delta K ^ 2}$."
   ]
  },
  {
   "cell_type": "code",
   "execution_count": 6,
   "metadata": {},
   "outputs": [],
   "source": [
    "from scipy.integrate import simps\n",
    "\n",
    "def get_risk_neutral_density(dk, k_min, k_max, verbose=False):\n",
    "    \"\"\"Get normalized rnd on the globally defined date.\"\"\"\n",
    "    # range of strikes\n",
    "    _k = np.arange(k_min-dk, k_max+dk, dk)\n",
    "    \n",
    "    # d^2 f(x) / dx^2, note that len(density) = len(k_range)-2\n",
    "    _d = np.diff(\n",
    "        option_pricer(_k), \n",
    "        n=2\n",
    "    ) / dk ** 2\n",
    "\n",
    "    # normalize to sum up to 1\n",
    "    _d_integral = simps(_d, _k[1:-1])\n",
    "\n",
    "    if verbose:\n",
    "        print(f\"numerical differentiation with dK = {dk:.1e} from K={k_min} to {k_max};\")\n",
    "        print(f\"density sumps up to {_d_integral:.2}\")\n",
    "\n",
    "    return _d / _d_integral"
   ]
  },
  {
   "cell_type": "markdown",
   "metadata": {},
   "source": [
    "The density should be positive everywhere and integrate to 1.0, which rarely happens due to numerical issues. We let the user experiment with different values of $\\Delta K$ and domain of integration. We would expect the density to become vanishingly small at the levels of spot/2 on the left and spot*1.5 on the right."
   ]
  },
  {
   "cell_type": "code",
   "execution_count": 7,
   "metadata": {},
   "outputs": [
    {
     "data": {
      "application/vnd.jupyter.widget-view+json": {
       "model_id": "98387757ac414f19b4f01ae80fc57741",
       "version_major": 2,
       "version_minor": 0
      },
      "text/plain": [
       "interactive(children=(FloatSlider(value=2e-05, description='dk', max=0.001, min=2e-05, readout_format='.1e', s…"
      ]
     },
     "metadata": {},
     "output_type": "display_data"
    }
   ],
   "source": [
    "# step size for strikes\n",
    "dk_widget = widgets.FloatSlider(min=2e-05, max=1e-03, step=2e-05, \n",
    "                                readout_format='.1e')\n",
    "\n",
    "# lower and upper limit of integration\n",
    "k_min_widget = widgets.IntSlider(min=30, max=60, step=5)\n",
    "k_max_widget = widgets.IntSlider(min=120, max=170, step=10)\n",
    "\n",
    "display(\n",
    "    _ = interact(get_risk_neutral_density, \n",
    "                 dk=dk_widget, \n",
    "                 k_min=k_min_widget, \n",
    "                 k_max=k_max_widget,\n",
    "                 verbose=fixed(True))\n",
    ")"
   ]
  },
  {
   "cell_type": "markdown",
   "metadata": {},
   "source": [
    "Finally, we can integrate the estimated density from a threshold of interest to ~~infinity~~ a very big value and arrive at the probability of the underlying exceeding that threshold."
   ]
  },
  {
   "cell_type": "code",
   "execution_count": 8,
   "metadata": {},
   "outputs": [
    {
     "data": {
      "application/vnd.jupyter.widget-view+json": {
       "model_id": "021d55f473454b07af48e3a3fdce260f",
       "version_major": 2,
       "version_minor": 0
      },
      "text/plain": [
       "interactive(children=(IntSlider(value=95, description='threshold', max=105, min=85, step=5), Output()), _dom_c…"
      ]
     },
     "metadata": {},
     "output_type": "display_data"
    }
   ],
   "source": [
    "# recalculate density at the given slider\n",
    "rnd = get_risk_neutral_density(\n",
    "    dk_widget.value, \n",
    "    k_min_widget.value,\n",
    "    k_max_widget.value\n",
    ")\n",
    "\n",
    "# region of integration; two points are lost bc of differentiation twice\n",
    "k_range = np.arange(\n",
    "    k_min_widget.value-dk_widget.value, \n",
    "    k_max_widget.value+dk_widget.value, \n",
    "    dk_widget.value\n",
    ")[1:-1]\n",
    "\n",
    "@interact\n",
    "def get_risk_neutral_probability_of_tail(threshold=(85, 105, 5)):\n",
    "    # drop the left tail\n",
    "    idx = k_range > threshold\n",
    "\n",
    "    # integrate over the range of strikes from thresh to 'infinity'\n",
    "    prob = simps(rnd[idx], k_range[idx])\n",
    "\n",
    "    print(f\"P[S>{threshold}] = {prob:.2f}\")"
   ]
  },
  {
   "cell_type": "markdown",
   "metadata": {},
   "source": [
    "The above calculations are implemented in `optools.smile.VolatilitySmile.estimate_risk_neutral_density`."
   ]
  }
 ],
 "metadata": {
  "kernelspec": {
   "display_name": "fx-options-ukraine-war-T2SXmAIO-py3.10",
   "language": "python",
   "name": "python3"
  },
  "language_info": {
   "codemirror_mode": {
    "name": "ipython",
    "version": 3
   },
   "file_extension": ".py",
   "mimetype": "text/x-python",
   "name": "python",
   "nbconvert_exporter": "python",
   "pygments_lexer": "ipython3",
   "version": "3.10.12"
  }
 },
 "nbformat": 4,
 "nbformat_minor": 2
}
