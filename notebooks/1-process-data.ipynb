{
 "cells": [
  {
   "cell_type": "code",
   "execution_count": 1,
   "metadata": {},
   "outputs": [],
   "source": [
    "import pandas as pd\n",
    "from pathlib import Path"
   ]
  },
  {
   "cell_type": "markdown",
   "metadata": {},
   "source": [
    "# settings\n",
    "Since my dataset contains 1-month USDRUB derivatives, I assume the maturity of 30 days; I use the USD OIS rates as the USD interest rate. Together, this implies an annualization factor of $360/30$."
   ]
  },
  {
   "cell_type": "code",
   "execution_count": 2,
   "metadata": {},
   "outputs": [],
   "source": [
    "DATA_PATH = Path(\"../data\")\n",
    "\n",
    "filename_raw_data = \"usdrub-data-hf.ftr\"\n",
    "rates_ann_factor = 360 / 30"
   ]
  },
  {
   "cell_type": "markdown",
   "metadata": {},
   "source": [
    "# raw data\n",
    "The raw data is a collection of USDRUB spot and forward prices and FX option contracts plus the USD OIS rate, all stacked in the long-form as a .ftr pyarrow file with columns ['date', 'contract', 'value']. The (contract, value) pairs are:\n",
    "| contract  | value\n",
    "| --------- | -----\n",
    "| spot      | USDRUB spot rate\n",
    "| forward   | USDRUB 1-month forward rate\n",
    "| v_atm     | volatility of 1-month ATM contracts, in percent.\n",
    "| v_25r     | quote of 25-delta risk reversal, in percent\n",
    "| v_10r     | quote of 10-delta risk reversal, in percent\n",
    "| v_25b     | quote of 25-delta butterfly spread (market strangle), in percent\n",
    "| v_10b     | quote of 10-delta butterfly spread (market strangle), in percent\n",
    "| r_base    | risk-free rate in the base currency, in percent."
   ]
  },
  {
   "cell_type": "code",
   "execution_count": 3,
   "metadata": {},
   "outputs": [
    {
     "name": "stdout",
     "output_type": "stream",
     "text": [
      "number of unique dates: 57307\n"
     ]
    },
    {
     "data": {
      "text/html": [
       "<style type=\"text/css\">\n",
       "</style>\n",
       "<table id=\"T_bcf77\">\n",
       "  <thead>\n",
       "    <tr>\n",
       "      <th class=\"blank level0\" >&nbsp;</th>\n",
       "      <th id=\"T_bcf77_level0_col0\" class=\"col_heading level0 col0\" >date</th>\n",
       "      <th id=\"T_bcf77_level0_col1\" class=\"col_heading level0 col1\" >contract</th>\n",
       "      <th id=\"T_bcf77_level0_col2\" class=\"col_heading level0 col2\" >value</th>\n",
       "    </tr>\n",
       "  </thead>\n",
       "  <tbody>\n",
       "    <tr>\n",
       "      <th id=\"T_bcf77_level0_row0\" class=\"row_heading level0 row0\" >0</th>\n",
       "      <td id=\"T_bcf77_row0_col0\" class=\"data row0 col0\" >2022-02-28 16:44:00+01:00</td>\n",
       "      <td id=\"T_bcf77_row0_col1\" class=\"data row0 col1\" >spot</td>\n",
       "      <td id=\"T_bcf77_row0_col2\" class=\"data row0 col2\" >109.31</td>\n",
       "    </tr>\n",
       "    <tr>\n",
       "      <th id=\"T_bcf77_level0_row1\" class=\"row_heading level0 row1\" >1</th>\n",
       "      <td id=\"T_bcf77_row1_col0\" class=\"data row1 col0\" >2022-02-28 16:44:00+01:00</td>\n",
       "      <td id=\"T_bcf77_row1_col1\" class=\"data row1 col1\" >r_base</td>\n",
       "      <td id=\"T_bcf77_row1_col2\" class=\"data row1 col2\" >0.24</td>\n",
       "    </tr>\n",
       "    <tr>\n",
       "      <th id=\"T_bcf77_level0_row2\" class=\"row_heading level0 row2\" >2</th>\n",
       "      <td id=\"T_bcf77_row2_col0\" class=\"data row2 col0\" >2022-02-28 16:44:00+01:00</td>\n",
       "      <td id=\"T_bcf77_row2_col1\" class=\"data row2 col1\" >v_atm</td>\n",
       "      <td id=\"T_bcf77_row2_col2\" class=\"data row2 col2\" >85.48</td>\n",
       "    </tr>\n",
       "    <tr>\n",
       "      <th id=\"T_bcf77_level0_row3\" class=\"row_heading level0 row3\" >3</th>\n",
       "      <td id=\"T_bcf77_row3_col0\" class=\"data row3 col0\" >2022-02-28 16:44:00+01:00</td>\n",
       "      <td id=\"T_bcf77_row3_col1\" class=\"data row3 col1\" >v_25r</td>\n",
       "      <td id=\"T_bcf77_row3_col2\" class=\"data row3 col2\" >21.32</td>\n",
       "    </tr>\n",
       "    <tr>\n",
       "      <th id=\"T_bcf77_level0_row4\" class=\"row_heading level0 row4\" >4</th>\n",
       "      <td id=\"T_bcf77_row4_col0\" class=\"data row4 col0\" >2022-02-28 16:44:00+01:00</td>\n",
       "      <td id=\"T_bcf77_row4_col1\" class=\"data row4 col1\" >v_10r</td>\n",
       "      <td id=\"T_bcf77_row4_col2\" class=\"data row4 col2\" >46.03</td>\n",
       "    </tr>\n",
       "    <tr>\n",
       "      <th id=\"T_bcf77_level0_row5\" class=\"row_heading level0 row5\" >5</th>\n",
       "      <td id=\"T_bcf77_row5_col0\" class=\"data row5 col0\" >2022-02-28 16:44:00+01:00</td>\n",
       "      <td id=\"T_bcf77_row5_col1\" class=\"data row5 col1\" >v_25b</td>\n",
       "      <td id=\"T_bcf77_row5_col2\" class=\"data row5 col2\" >3.77</td>\n",
       "    </tr>\n",
       "    <tr>\n",
       "      <th id=\"T_bcf77_level0_row6\" class=\"row_heading level0 row6\" >6</th>\n",
       "      <td id=\"T_bcf77_row6_col0\" class=\"data row6 col0\" >2022-02-28 16:44:00+01:00</td>\n",
       "      <td id=\"T_bcf77_row6_col1\" class=\"data row6 col1\" >v_10b</td>\n",
       "      <td id=\"T_bcf77_row6_col2\" class=\"data row6 col2\" >14.67</td>\n",
       "    </tr>\n",
       "    <tr>\n",
       "      <th id=\"T_bcf77_level0_row7\" class=\"row_heading level0 row7\" >7</th>\n",
       "      <td id=\"T_bcf77_row7_col0\" class=\"data row7 col0\" >2022-02-28 16:44:00+01:00</td>\n",
       "      <td id=\"T_bcf77_row7_col1\" class=\"data row7 col1\" >forward</td>\n",
       "      <td id=\"T_bcf77_row7_col2\" class=\"data row7 col2\" >112.44</td>\n",
       "    </tr>\n",
       "  </tbody>\n",
       "</table>\n"
      ],
      "text/plain": [
       "<pandas.io.formats.style.Styler at 0x7f74e1affb50>"
      ]
     },
     "execution_count": 3,
     "metadata": {},
     "output_type": "execute_result"
    }
   ],
   "source": [
    "data = pd.read_feather(DATA_PATH / \"raw\" / filename_raw_data)\n",
    "\n",
    "print(f\"number of unique dates: {len(data['date'].unique())}\")\n",
    "data.query(\"date == '2022-02-28 16:44:00+01:00'\").reset_index(drop=True)\\\n",
    "    .style.format(precision=2)"
   ]
  },
  {
   "cell_type": "markdown",
   "metadata": {},
   "source": [
    "We need to introduce one new variable, the interest rate for the counter currency, and to de-annualize convert all relevant values (interest rates and the option contract quotes expressed as volatilities)."
   ]
  },
  {
   "cell_type": "code",
   "execution_count": 4,
   "metadata": {},
   "outputs": [
    {
     "data": {
      "text/html": [
       "<style type=\"text/css\">\n",
       "</style>\n",
       "<table id=\"T_bac7b\">\n",
       "  <thead>\n",
       "    <tr>\n",
       "      <th class=\"blank level0\" >&nbsp;</th>\n",
       "      <th id=\"T_bac7b_level0_col0\" class=\"col_heading level0 col0\" >date</th>\n",
       "      <th id=\"T_bac7b_level0_col1\" class=\"col_heading level0 col1\" >contract</th>\n",
       "      <th id=\"T_bac7b_level0_col2\" class=\"col_heading level0 col2\" >value</th>\n",
       "    </tr>\n",
       "  </thead>\n",
       "  <tbody>\n",
       "    <tr>\n",
       "      <th id=\"T_bac7b_level0_row0\" class=\"row_heading level0 row0\" >0</th>\n",
       "      <td id=\"T_bac7b_row0_col0\" class=\"data row0 col0\" >2022-02-28 16:44:00+01:00</td>\n",
       "      <td id=\"T_bac7b_row0_col1\" class=\"data row0 col1\" >forward</td>\n",
       "      <td id=\"T_bac7b_row0_col2\" class=\"data row0 col2\" >112.4394</td>\n",
       "    </tr>\n",
       "    <tr>\n",
       "      <th id=\"T_bac7b_level0_row1\" class=\"row_heading level0 row1\" >1</th>\n",
       "      <td id=\"T_bac7b_row1_col0\" class=\"data row1 col0\" >2022-02-28 16:44:00+01:00</td>\n",
       "      <td id=\"T_bac7b_row1_col1\" class=\"data row1 col1\" >r_base</td>\n",
       "      <td id=\"T_bac7b_row1_col2\" class=\"data row1 col2\" >0.0024</td>\n",
       "    </tr>\n",
       "    <tr>\n",
       "      <th id=\"T_bac7b_level0_row2\" class=\"row_heading level0 row2\" >2</th>\n",
       "      <td id=\"T_bac7b_row2_col0\" class=\"data row2 col0\" >2022-02-28 16:44:00+01:00</td>\n",
       "      <td id=\"T_bac7b_row2_col1\" class=\"data row2 col1\" >spot</td>\n",
       "      <td id=\"T_bac7b_row2_col2\" class=\"data row2 col2\" >109.3052</td>\n",
       "    </tr>\n",
       "    <tr>\n",
       "      <th id=\"T_bac7b_level0_row3\" class=\"row_heading level0 row3\" >3</th>\n",
       "      <td id=\"T_bac7b_row3_col0\" class=\"data row3 col0\" >2022-02-28 16:44:00+01:00</td>\n",
       "      <td id=\"T_bac7b_row3_col1\" class=\"data row3 col1\" >v_10b</td>\n",
       "      <td id=\"T_bac7b_row3_col2\" class=\"data row3 col2\" >0.1467</td>\n",
       "    </tr>\n",
       "    <tr>\n",
       "      <th id=\"T_bac7b_level0_row4\" class=\"row_heading level0 row4\" >4</th>\n",
       "      <td id=\"T_bac7b_row4_col0\" class=\"data row4 col0\" >2022-02-28 16:44:00+01:00</td>\n",
       "      <td id=\"T_bac7b_row4_col1\" class=\"data row4 col1\" >v_10r</td>\n",
       "      <td id=\"T_bac7b_row4_col2\" class=\"data row4 col2\" >0.4603</td>\n",
       "    </tr>\n",
       "    <tr>\n",
       "      <th id=\"T_bac7b_level0_row5\" class=\"row_heading level0 row5\" >5</th>\n",
       "      <td id=\"T_bac7b_row5_col0\" class=\"data row5 col0\" >2022-02-28 16:44:00+01:00</td>\n",
       "      <td id=\"T_bac7b_row5_col1\" class=\"data row5 col1\" >v_25b</td>\n",
       "      <td id=\"T_bac7b_row5_col2\" class=\"data row5 col2\" >0.0377</td>\n",
       "    </tr>\n",
       "    <tr>\n",
       "      <th id=\"T_bac7b_level0_row6\" class=\"row_heading level0 row6\" >6</th>\n",
       "      <td id=\"T_bac7b_row6_col0\" class=\"data row6 col0\" >2022-02-28 16:44:00+01:00</td>\n",
       "      <td id=\"T_bac7b_row6_col1\" class=\"data row6 col1\" >v_25r</td>\n",
       "      <td id=\"T_bac7b_row6_col2\" class=\"data row6 col2\" >0.2132</td>\n",
       "    </tr>\n",
       "    <tr>\n",
       "      <th id=\"T_bac7b_level0_row7\" class=\"row_heading level0 row7\" >7</th>\n",
       "      <td id=\"T_bac7b_row7_col0\" class=\"data row7 col0\" >2022-02-28 16:44:00+01:00</td>\n",
       "      <td id=\"T_bac7b_row7_col1\" class=\"data row7 col1\" >v_atm</td>\n",
       "      <td id=\"T_bac7b_row7_col2\" class=\"data row7 col2\" >0.8548</td>\n",
       "    </tr>\n",
       "    <tr>\n",
       "      <th id=\"T_bac7b_level0_row8\" class=\"row_heading level0 row8\" >8</th>\n",
       "      <td id=\"T_bac7b_row8_col0\" class=\"data row8 col0\" >2022-02-28 16:44:00+01:00</td>\n",
       "      <td id=\"T_bac7b_row8_col1\" class=\"data row8 col1\" >r_counter</td>\n",
       "      <td id=\"T_bac7b_row8_col2\" class=\"data row8 col2\" >0.3465</td>\n",
       "    </tr>\n",
       "  </tbody>\n",
       "</table>\n"
      ],
      "text/plain": [
       "<pandas.io.formats.style.Styler at 0x7f7522933280>"
      ]
     },
     "execution_count": 4,
     "metadata": {},
     "output_type": "execute_result"
    }
   ],
   "source": [
    "# pivot for easier access\n",
    "data = data.pivot(index=\"date\", columns=\"contract\", values=\"value\")\n",
    "\n",
    "# from percent to fractions of 1 where relevant\n",
    "data[['r_base', 'v_atm', 'v_25r', 'v_10r', 'v_25b', 'v_10b']] /= 100\n",
    "\n",
    "# calculate interest rate for the counter currency\n",
    "# f = s * (1 + r_counter) / (1 + r_base)\n",
    "data[\"r_counter\"] = (\n",
    "        data[\"forward\"] / data[\"spot\"] *\n",
    "            (1 + data[\"r_base\"] / rates_ann_factor)\n",
    "        - 1\n",
    ") * rates_ann_factor\n",
    "\n",
    "# unpivot\n",
    "data = data.reset_index().melt(id_vars=\"date\", value_name=\"value\",\n",
    "                               var_name=\"contract\")\n",
    "\n",
    "data.query(\"date == '2022-02-28 16:44:00+01:00'\").reset_index(drop=True)\\\n",
    "    .style.format(precision=4)"
   ]
  },
  {
   "cell_type": "code",
   "execution_count": 5,
   "metadata": {},
   "outputs": [],
   "source": [
    "# store in data/processed/\n",
    "data.to_feather(DATA_PATH / \"processed\" / \"data.ftr\")"
   ]
  }
 ],
 "metadata": {
  "kernelspec": {
   "display_name": "fx-options-ukraine-war-T2SXmAIO-py3.10",
   "language": "python",
   "name": "python3"
  },
  "language_info": {
   "codemirror_mode": {
    "name": "ipython",
    "version": 3
   },
   "file_extension": ".py",
   "mimetype": "text/x-python",
   "name": "python",
   "nbconvert_exporter": "python",
   "pygments_lexer": "ipython3",
   "version": "3.10.12"
  }
 },
 "nbformat": 4,
 "nbformat_minor": 2
}
