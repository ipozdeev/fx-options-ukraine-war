{
 "cells": [
  {
   "cell_type": "code",
   "execution_count": 13,
   "metadata": {},
   "outputs": [],
   "source": [
    "import sys; sys.path.append(\"..\")"
   ]
  },
  {
   "cell_type": "code",
   "execution_count": 14,
   "metadata": {},
   "outputs": [],
   "source": [
    "import pandas as pd\n",
    "import numpy as np\n",
    "from pathlib import Path\n",
    "import os\n",
    "\n",
    "# config is located in the repo\n",
    "from config import *"
   ]
  },
  {
   "cell_type": "markdown",
   "metadata": {},
   "source": [
    "# settings\n",
    "Since my dataset contains 1-month USDRUB derivatives, I assume the maturity of 30 days; I use the USD OIS rates as the USD interest rate. Together, this implies an annualization factor of $360/30$."
   ]
  },
  {
   "cell_type": "code",
   "execution_count": 15,
   "metadata": {},
   "outputs": [],
   "source": [
    "DATA_PATH = Path(os.environ.get(\"CONTENT_ROOT\", \".\")) / \"data\"\n",
    "\n",
    "filename_raw_data = \"usdrub-data-hf.ftr\"\n",
    "rates_ann_factor = 360 / 30\n",
    "EXAMPLE_DATE = \"2022-02-24 03:48:00+01:00\""
   ]
  },
  {
   "cell_type": "markdown",
   "metadata": {},
   "source": [
    "# raw data\n",
    "The raw data is a collection of USDRUB spot and forward prices and FX option contracts plus the USD OIS rate, all stacked in the long-form as a .ftr pyarrow file with columns ['date', 'contract', 'value']. The (contract, value) pairs are:\n",
    "| contract  | value\n",
    "| --------- | -----\n",
    "| spot      | USDRUB spot rate\n",
    "| forward   | USDRUB 1-month forward rate\n",
    "| v_atm     | volatility of 1-month ATM contracts, in percent.\n",
    "| v_25r     | quote of 25-delta risk reversal, in percent\n",
    "| v_10r     | quote of 10-delta risk reversal, in percent\n",
    "| v_25b     | quote of 25-delta butterfly spread (market strangle), in percent\n",
    "| v_10b     | quote of 10-delta butterfly spread (market strangle), in percent\n",
    "| r_base    | risk-free rate in the base currency, in percent."
   ]
  },
  {
   "cell_type": "code",
   "execution_count": 16,
   "metadata": {},
   "outputs": [
    {
     "name": "stdout",
     "output_type": "stream",
     "text": [
      "number of unique dates: 57307\n",
      "sample on 2022-02-24 03:48\n"
     ]
    },
    {
     "data": {
      "text/html": [
       "<style type=\"text/css\">\n",
       "</style>\n",
       "<table id=\"T_35a03\">\n",
       "  <thead>\n",
       "    <tr>\n",
       "      <th class=\"blank level0\" >&nbsp;</th>\n",
       "      <th id=\"T_35a03_level0_col0\" class=\"col_heading level0 col0\" >date</th>\n",
       "      <th id=\"T_35a03_level0_col1\" class=\"col_heading level0 col1\" >contract</th>\n",
       "      <th id=\"T_35a03_level0_col2\" class=\"col_heading level0 col2\" >value</th>\n",
       "    </tr>\n",
       "  </thead>\n",
       "  <tbody>\n",
       "    <tr>\n",
       "      <th id=\"T_35a03_level0_row0\" class=\"row_heading level0 row0\" >0</th>\n",
       "      <td id=\"T_35a03_row0_col0\" class=\"data row0 col0\" >2022-02-24 03:48:00+01:00</td>\n",
       "      <td id=\"T_35a03_row0_col1\" class=\"data row0 col1\" >spot</td>\n",
       "      <td id=\"T_35a03_row0_col2\" class=\"data row0 col2\" >81.24</td>\n",
       "    </tr>\n",
       "    <tr>\n",
       "      <th id=\"T_35a03_level0_row1\" class=\"row_heading level0 row1\" >1</th>\n",
       "      <td id=\"T_35a03_row1_col0\" class=\"data row1 col0\" >2022-02-24 03:48:00+01:00</td>\n",
       "      <td id=\"T_35a03_row1_col1\" class=\"data row1 col1\" >r_base</td>\n",
       "      <td id=\"T_35a03_row1_col2\" class=\"data row1 col2\" >0.23</td>\n",
       "    </tr>\n",
       "    <tr>\n",
       "      <th id=\"T_35a03_level0_row2\" class=\"row_heading level0 row2\" >2</th>\n",
       "      <td id=\"T_35a03_row2_col0\" class=\"data row2 col0\" >2022-02-24 03:48:00+01:00</td>\n",
       "      <td id=\"T_35a03_row2_col1\" class=\"data row2 col1\" >v_atm</td>\n",
       "      <td id=\"T_35a03_row2_col2\" class=\"data row2 col2\" >35.83</td>\n",
       "    </tr>\n",
       "    <tr>\n",
       "      <th id=\"T_35a03_level0_row3\" class=\"row_heading level0 row3\" >3</th>\n",
       "      <td id=\"T_35a03_row3_col0\" class=\"data row3 col0\" >2022-02-24 03:48:00+01:00</td>\n",
       "      <td id=\"T_35a03_row3_col1\" class=\"data row3 col1\" >v_25r</td>\n",
       "      <td id=\"T_35a03_row3_col2\" class=\"data row3 col2\" >12.21</td>\n",
       "    </tr>\n",
       "    <tr>\n",
       "      <th id=\"T_35a03_level0_row4\" class=\"row_heading level0 row4\" >4</th>\n",
       "      <td id=\"T_35a03_row4_col0\" class=\"data row4 col0\" >2022-02-24 03:48:00+01:00</td>\n",
       "      <td id=\"T_35a03_row4_col1\" class=\"data row4 col1\" >v_10r</td>\n",
       "      <td id=\"T_35a03_row4_col2\" class=\"data row4 col2\" >26.61</td>\n",
       "    </tr>\n",
       "    <tr>\n",
       "      <th id=\"T_35a03_level0_row5\" class=\"row_heading level0 row5\" >5</th>\n",
       "      <td id=\"T_35a03_row5_col0\" class=\"data row5 col0\" >2022-02-24 03:48:00+01:00</td>\n",
       "      <td id=\"T_35a03_row5_col1\" class=\"data row5 col1\" >v_25b</td>\n",
       "      <td id=\"T_35a03_row5_col2\" class=\"data row5 col2\" >1.50</td>\n",
       "    </tr>\n",
       "    <tr>\n",
       "      <th id=\"T_35a03_level0_row6\" class=\"row_heading level0 row6\" >6</th>\n",
       "      <td id=\"T_35a03_row6_col0\" class=\"data row6 col0\" >2022-02-24 03:48:00+01:00</td>\n",
       "      <td id=\"T_35a03_row6_col1\" class=\"data row6 col1\" >v_10b</td>\n",
       "      <td id=\"T_35a03_row6_col2\" class=\"data row6 col2\" >7.47</td>\n",
       "    </tr>\n",
       "    <tr>\n",
       "      <th id=\"T_35a03_level0_row7\" class=\"row_heading level0 row7\" >7</th>\n",
       "      <td id=\"T_35a03_row7_col0\" class=\"data row7 col0\" >2022-02-24 03:48:00+01:00</td>\n",
       "      <td id=\"T_35a03_row7_col1\" class=\"data row7 col1\" >forward</td>\n",
       "      <td id=\"T_35a03_row7_col2\" class=\"data row7 col2\" >82.16</td>\n",
       "    </tr>\n",
       "  </tbody>\n",
       "</table>\n"
      ],
      "text/plain": [
       "<pandas.io.formats.style.Styler at 0x7f32c5fb1b10>"
      ]
     },
     "execution_count": 16,
     "metadata": {},
     "output_type": "execute_result"
    }
   ],
   "source": [
    "data = pd.read_feather(DATA_PATH / \"raw\" / filename_raw_data)\n",
    "\n",
    "print(f\"number of unique dates: {len(data['date'].unique())}\")\n",
    "print(f\"sample on {EXAMPLE_DATE[:16]}\")\n",
    "data.query(f\"date == '{EXAMPLE_DATE}'\").reset_index(drop=True)\\\n",
    "    .style.format(precision=2)"
   ]
  },
  {
   "cell_type": "code",
   "execution_count": 17,
   "metadata": {},
   "outputs": [],
   "source": [
    "# pivot for easier access\n",
    "data = data.pivot(index=\"date\", columns=\"contract\", values=\"value\")"
   ]
  },
  {
   "cell_type": "markdown",
   "metadata": {},
   "source": [
    "It is pretty safe to forward-fill the USD interest rate, as it barely changes at this frequency."
   ]
  },
  {
   "cell_type": "code",
   "execution_count": 18,
   "metadata": {},
   "outputs": [],
   "source": [
    "data[\"r_base\"] = data[\"r_base\"].ffill()"
   ]
  },
  {
   "cell_type": "markdown",
   "metadata": {},
   "source": [
    "Also, we have to drop rows with at least one missing value, as all values are essential to our analysis."
   ]
  },
  {
   "cell_type": "code",
   "execution_count": 19,
   "metadata": {},
   "outputs": [],
   "source": [
    "# data = data.dropna(how=\"any\")"
   ]
  },
  {
   "cell_type": "markdown",
   "metadata": {},
   "source": [
    "We need to:\n",
    "- introduce one new variable: the interest rate for the counter currency; \n",
    "- de-annualize all relevant values (interest rates and the option contract quotes expressed as volatilities);\n",
    "- express the latter in fractions of 1 instead of percent; and finally \n",
    "- convert interest rates to continuously compounded as required by the Black-Scholes formulas."
   ]
  },
  {
   "cell_type": "code",
   "execution_count": 20,
   "metadata": {},
   "outputs": [
    {
     "data": {
      "text/html": [
       "<style type=\"text/css\">\n",
       "</style>\n",
       "<table id=\"T_2b286\">\n",
       "  <thead>\n",
       "    <tr>\n",
       "      <th class=\"blank level0\" >&nbsp;</th>\n",
       "      <th id=\"T_2b286_level0_col0\" class=\"col_heading level0 col0\" >date</th>\n",
       "      <th id=\"T_2b286_level0_col1\" class=\"col_heading level0 col1\" >contract</th>\n",
       "      <th id=\"T_2b286_level0_col2\" class=\"col_heading level0 col2\" >value</th>\n",
       "    </tr>\n",
       "  </thead>\n",
       "  <tbody>\n",
       "    <tr>\n",
       "      <th id=\"T_2b286_level0_row0\" class=\"row_heading level0 row0\" >0</th>\n",
       "      <td id=\"T_2b286_row0_col0\" class=\"data row0 col0\" >2022-02-24 03:48:00+01:00</td>\n",
       "      <td id=\"T_2b286_row0_col1\" class=\"data row0 col1\" >forward</td>\n",
       "      <td id=\"T_2b286_row0_col2\" class=\"data row0 col2\" >82.1610</td>\n",
       "    </tr>\n",
       "    <tr>\n",
       "      <th id=\"T_2b286_level0_row1\" class=\"row_heading level0 row1\" >1</th>\n",
       "      <td id=\"T_2b286_row1_col0\" class=\"data row1 col0\" >2022-02-24 03:48:00+01:00</td>\n",
       "      <td id=\"T_2b286_row1_col1\" class=\"data row1 col1\" >r_base</td>\n",
       "      <td id=\"T_2b286_row1_col2\" class=\"data row1 col2\" >0.0023</td>\n",
       "    </tr>\n",
       "    <tr>\n",
       "      <th id=\"T_2b286_level0_row2\" class=\"row_heading level0 row2\" >2</th>\n",
       "      <td id=\"T_2b286_row2_col0\" class=\"data row2 col0\" >2022-02-24 03:48:00+01:00</td>\n",
       "      <td id=\"T_2b286_row2_col1\" class=\"data row2 col1\" >spot</td>\n",
       "      <td id=\"T_2b286_row2_col2\" class=\"data row2 col2\" >81.2420</td>\n",
       "    </tr>\n",
       "    <tr>\n",
       "      <th id=\"T_2b286_level0_row3\" class=\"row_heading level0 row3\" >3</th>\n",
       "      <td id=\"T_2b286_row3_col0\" class=\"data row3 col0\" >2022-02-24 03:48:00+01:00</td>\n",
       "      <td id=\"T_2b286_row3_col1\" class=\"data row3 col1\" >v_10b</td>\n",
       "      <td id=\"T_2b286_row3_col2\" class=\"data row3 col2\" >0.0747</td>\n",
       "    </tr>\n",
       "    <tr>\n",
       "      <th id=\"T_2b286_level0_row4\" class=\"row_heading level0 row4\" >4</th>\n",
       "      <td id=\"T_2b286_row4_col0\" class=\"data row4 col0\" >2022-02-24 03:48:00+01:00</td>\n",
       "      <td id=\"T_2b286_row4_col1\" class=\"data row4 col1\" >v_10r</td>\n",
       "      <td id=\"T_2b286_row4_col2\" class=\"data row4 col2\" >0.2661</td>\n",
       "    </tr>\n",
       "    <tr>\n",
       "      <th id=\"T_2b286_level0_row5\" class=\"row_heading level0 row5\" >5</th>\n",
       "      <td id=\"T_2b286_row5_col0\" class=\"data row5 col0\" >2022-02-24 03:48:00+01:00</td>\n",
       "      <td id=\"T_2b286_row5_col1\" class=\"data row5 col1\" >v_25b</td>\n",
       "      <td id=\"T_2b286_row5_col2\" class=\"data row5 col2\" >0.0150</td>\n",
       "    </tr>\n",
       "    <tr>\n",
       "      <th id=\"T_2b286_level0_row6\" class=\"row_heading level0 row6\" >6</th>\n",
       "      <td id=\"T_2b286_row6_col0\" class=\"data row6 col0\" >2022-02-24 03:48:00+01:00</td>\n",
       "      <td id=\"T_2b286_row6_col1\" class=\"data row6 col1\" >v_25r</td>\n",
       "      <td id=\"T_2b286_row6_col2\" class=\"data row6 col2\" >0.1221</td>\n",
       "    </tr>\n",
       "    <tr>\n",
       "      <th id=\"T_2b286_level0_row7\" class=\"row_heading level0 row7\" >7</th>\n",
       "      <td id=\"T_2b286_row7_col0\" class=\"data row7 col0\" >2022-02-24 03:48:00+01:00</td>\n",
       "      <td id=\"T_2b286_row7_col1\" class=\"data row7 col1\" >v_atm</td>\n",
       "      <td id=\"T_2b286_row7_col2\" class=\"data row7 col2\" >0.3583</td>\n",
       "    </tr>\n",
       "    <tr>\n",
       "      <th id=\"T_2b286_level0_row8\" class=\"row_heading level0 row8\" >8</th>\n",
       "      <td id=\"T_2b286_row8_col0\" class=\"data row8 col0\" >2022-02-24 03:48:00+01:00</td>\n",
       "      <td id=\"T_2b286_row8_col1\" class=\"data row8 col1\" >r_counter</td>\n",
       "      <td id=\"T_2b286_row8_col2\" class=\"data row8 col2\" >0.1293</td>\n",
       "    </tr>\n",
       "  </tbody>\n",
       "</table>\n"
      ],
      "text/plain": [
       "<pandas.io.formats.style.Styler at 0x7f32c5fb1930>"
      ]
     },
     "execution_count": 20,
     "metadata": {},
     "output_type": "execute_result"
    }
   ],
   "source": [
    "# from percent to fractions of 1 where relevant\n",
    "data[['r_base', 'v_atm', 'v_25r', 'v_10r', 'v_25b', 'v_10b']] /= 100\n",
    "\n",
    "# calculate interest rate for the counter currency\n",
    "# f = s * (1 + r_counter) / (1 + r_base)\n",
    "data[\"r_counter\"] = (\n",
    "        data[\"forward\"] / data[\"spot\"] *\n",
    "            (1 + data[\"r_base\"] / rates_ann_factor)\n",
    "        - 1\n",
    ") * rates_ann_factor\n",
    "\n",
    "# rates to continuously compounded\n",
    "data[[\"r_base\", \"r_counter\"]] = np.log(1 + data[[\"r_base\", \"r_counter\"]])\n",
    "\n",
    "# unpivot\n",
    "data = data.reset_index().melt(id_vars=\"date\", value_name=\"value\",\n",
    "                               var_name=\"contract\")\n",
    "\n",
    "data.query(f\"date == '{EXAMPLE_DATE}'\").reset_index(drop=True)\\\n",
    "    .style.format(precision=4)"
   ]
  },
  {
   "cell_type": "code",
   "execution_count": 21,
   "metadata": {},
   "outputs": [],
   "source": [
    "# store in data/processed/\n",
    "data.to_feather(DATA_PATH / \"processed\" / \"data.ftr\")"
   ]
  }
 ],
 "metadata": {
  "kernelspec": {
   "display_name": "fx-options-ukraine-war-T2SXmAIO-py3.10",
   "language": "python",
   "name": "python3"
  },
  "language_info": {
   "codemirror_mode": {
    "name": "ipython",
    "version": 3
   },
   "file_extension": ".py",
   "mimetype": "text/x-python",
   "name": "python",
   "nbconvert_exporter": "python",
   "pygments_lexer": "ipython3",
   "version": "3.10.12"
  }
 },
 "nbformat": 4,
 "nbformat_minor": 2
}
