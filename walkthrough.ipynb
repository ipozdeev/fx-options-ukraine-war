{
 "cells": [
  {
   "cell_type": "markdown",
   "id": "78be881c-f267-477a-9919-293b7c31415f",
   "metadata": {},
   "source": [
    "- [introduction](#introduction)\n",
    "- [assumptions](#assumptions)\n",
    "- [methodology](#methodology)\n",
    "- [implementation](#implementation)\n",
    "  - [data](#data)\n",
    "  - [results](#results)\n",
    "- [appendix](#appendix)\n",
    "  - [walkthrough](#walkthrough)"
   ]
  },
  {
   "cell_type": "markdown",
   "id": "3129a139-9520-44af-ab07-10b04ea9a717",
   "metadata": {},
   "source": [
    "# introduction\n",
    "On February 24th 04:06 UTC+1, the \"special military operation\" was announced by the Russian president and the Russian army invaded Ukraine. In the run-up to the event, there had been warnings by US officials about the possibility of this outcome. Was the invasion expected by the FX market &mdash; a known barometer of a country's economic well-being? Did the warnings reinforce the expectation?\n",
    "\n",
    "To answer these questions, I take note that the annonuncement was followed by a depreciation of RUB to the level of about 85 RUB per 1 USD; i assume that the market participants had anticipated this level for the exchange rate in the case of an invasion, equate the probability of an invasion to the probability of USDRUB=85, and use currency options to estimate the probability of this development.\n",
    "\n",
    "I find that the probability of an invasion was fluctuating at 5-15% in the week before 02/24 and jumped to 25% in the hours immediately before the announcement:"
   ]
  },
  {
   "cell_type": "markdown",
   "id": "c269a788-55ed-4270-b7fd-9a77b58f1599",
   "metadata": {},
   "source": [
    "<img src=\"./output/figures/prob-nonparam-thresh85.png\" alt=\"probability of invasion getting higher on feb 23rd\" width=\"600\"/>"
   ]
  },
  {
   "cell_type": "markdown",
   "id": "f2335707-52c6-4137-8d8c-5a94317b760b",
   "metadata": {},
   "source": [
    "# assumptions\n",
    "In the immediate run-up to the invasion (a week or so):\n",
    "1. the FX market participants expected RUB to fall to the level of 85 RUB per 1 USD in case of an invasion;\n",
    "1. USDRUB dynamics was strongly determined by expectations of an invasion and by little else;\n",
    "2. changes in the risk-neutral probability coincided with changes in the physical probability (risk premium was constant);\n",
    "3. the risk-neutral distribution did not have tails that could not be approximated by those of a spherical distribution;\n",
    "4. markets were sufficiently liquid, and Bloomberg quotes are representative.\n",
    "\n",
    "While assumptions 1-3 are alright: the time span of a week is short and the conflict was arguably the major driver of related asset prices &mdash; assumption 4 is already prohibitively strong and compromises the very idea of estimating the probability of a tail risk event; assumption 5 is alright."
   ]
  },
  {
   "cell_type": "markdown",
   "id": "b6fb2052-7249-46ad-a2a0-1391be5e6ef8",
   "metadata": {},
   "source": [
    "# methodology\n",
    "\n",
    "To estimate the probability of the spot rate exceeding a certain threshold, I integrate the risk-neutral density of the spot rate extracted non-parametrically over a suitable domain.\n",
    "\n",
    "The well-known result from [Breeden and Litzenberger (1978)](https://www.jstor.org/stable/2352653?seq=1#metadata_info_tab_contents) equates the risk-neutral density of the underlying $q(S)$ to the second derivative of the option pricing function $C(\\cdot)$ w.r.t. the strike price $K$:\n",
    "$$q(S) = e^{r_f \\tau} \\frac{\\partial^2 C(S,K,\\ldots)}{\\partial K^2}.$$\n",
    "With a pricing function at hand, numerical calculation of the density is straighforward. Here, I take $C$ to be the Black-Scholes pricing function at the level of SABR-derived implied volatilities along the strike dimension:\n",
    "$$C(S, K), \\ldots = C^{bs}(S, \\hat{\\sigma}(K), K, \\ldots),$$\n",
    "where $\\hat{\\sigma}(K)$ is the SABR volatility smile calibrated to the FX option contracts (details in the [data section](#data))."
   ]
  },
  {
   "cell_type": "markdown",
   "id": "40f6f2a9-0449-4a09-a0c6-265a93113143",
   "metadata": {},
   "source": [
    "The risk-neutral probabilities are of course different from the physical ones: had the market participants been asked directly about the probability of war, the answer would be different from what the asset prices tell, just as the insurance premium-based probability of a hurricane is different from the physical (or 'objective') probability, the difference stemming from the fact that people undervalue assets that pay off poorly in the states of high marginal utility. I would imagine that the RUB investors' marginal utility, also called a measure of hunger, negatively correlates with the the USDRUB spot returns just because everyone is worse off in a war; hence, the risk-neutral probability that I estimate below arguably overestimates the physical one."
   ]
  },
  {
   "cell_type": "markdown",
   "id": "3db21908-7d8f-4729-92ef-660053295854",
   "metadata": {},
   "source": [
    "# implementation"
   ]
  },
  {
   "cell_type": "markdown",
   "id": "246567a6-6f6e-4578-99bc-56cfef5ddc6e",
   "metadata": {
    "tags": []
   },
   "source": [
    "## imports"
   ]
  },
  {
   "cell_type": "code",
   "execution_count": 1,
   "id": "a673e7e5-9f6a-4f5f-9ab9-5a09b6737288",
   "metadata": {},
   "outputs": [],
   "source": [
    "# pip/conda\n",
    "import pandas as pd\n",
    "import numpy as np\n",
    "import matplotlib.pyplot as plt\n",
    "import matplotlib.lines as mlines\n",
    "from matplotlib.dates import DateFormatter, DayLocator, HourLocator  # plotting\n",
    "import warnings  # suppress warnings\n",
    "\n",
    "# local\n",
    "from optools.blackscholes import option_price as bs_price\n",
    "\n",
    "# project\n",
    "from src.setup import *\n",
    "from src.datafeed_.downstream import *\n",
    "from src.visuals import *"
   ]
  },
  {
   "cell_type": "markdown",
   "id": "a7e2bfc1-0817-42b0-97ef-e3f5aefbbcf2",
   "metadata": {
    "tags": []
   },
   "source": [
    "## settings"
   ]
  },
  {
   "cell_type": "code",
   "execution_count": 2,
   "id": "f1f12a01-1def-4056-8f5d-65ae1489bb1c",
   "metadata": {},
   "outputs": [],
   "source": [
    "# parameters\n",
    "TAU = 1/12  # maturity of options\n",
    "\n",
    "# matplotlib\n",
    "palette = plt.rcParams['axes.prop_cycle'].by_key()['color']\n",
    "\n",
    "# formatting frames\n",
    "def format_dataframe(df_: pd.DataFrame, tail=True):\n",
    "    \"\"\"A little formatter helper.\"\"\"\n",
    "    if tail:\n",
    "        return format_dataframe(df_.tail(), tail=False)\n",
    "    \n",
    "    if df_.index.inferred_type == 'datetime64':\n",
    "        return format_dataframe(df_.rename_axis(index=\"date\").reset_index(),\n",
    "                                tail=tail)\n",
    "    \n",
    "    res_ = df_\\\n",
    "        .style.format(formatter={\"date\": lambda x: x.strftime(\"%Y-%m-%d %H:%M\")},\n",
    "                      precision=2)\\\n",
    "        .hide(axis=0)\n",
    "    return res_\n",
    "\n",
    "# suppress warnings\n",
    "warnings.filterwarnings('ignore')"
   ]
  },
  {
   "cell_type": "markdown",
   "id": "593106bd-70e2-45f3-8e0b-5c95254bc6ac",
   "metadata": {},
   "source": [
    "## data"
   ]
  },
  {
   "cell_type": "markdown",
   "id": "f31a91b5-0ffe-4124-a475-79b679038dfe",
   "metadata": {},
   "source": [
    "### events"
   ]
  },
  {
   "cell_type": "markdown",
   "id": "6449463c-8352-4be2-9249-1bc53ae6e19f",
   "metadata": {},
   "source": [
    "Events and their timestamps (GMT+1) are from Bloomberg."
   ]
  },
  {
   "cell_type": "code",
   "execution_count": 3,
   "id": "a1af759c-8334-4c15-855f-00065442f360",
   "metadata": {},
   "outputs": [
    {
     "data": {
      "text/html": [
       "<style type=\"text/css\">\n",
       "</style>\n",
       "<table id=\"T_1501b\">\n",
       "  <thead>\n",
       "    <tr>\n",
       "      <th id=\"T_1501b_level0_col0\" class=\"col_heading level0 col0\" >date</th>\n",
       "      <th id=\"T_1501b_level0_col1\" class=\"col_heading level0 col1\" > event</th>\n",
       "    </tr>\n",
       "  </thead>\n",
       "  <tbody>\n",
       "    <tr>\n",
       "      <td id=\"T_1501b_row0_col0\" class=\"data row0 col0\" >2022-02-24 04:06</td>\n",
       "      <td id=\"T_1501b_row0_col1\" class=\"data row0 col1\" > putin announces special military operation</td>\n",
       "    </tr>\n",
       "    <tr>\n",
       "      <td id=\"T_1501b_row1_col0\" class=\"data row1 col0\" >2022-02-18 22:58</td>\n",
       "      <td id=\"T_1501b_row1_col1\" class=\"data row1 col1\" > biden warns russia planning attack in coming days</td>\n",
       "    </tr>\n",
       "    <tr>\n",
       "      <td id=\"T_1501b_row2_col0\" class=\"data row2 col0\" >2022-02-17 15:19</td>\n",
       "      <td id=\"T_1501b_row2_col1\" class=\"data row2 col1\" > biden estimate prob of invasion as very high</td>\n",
       "    </tr>\n",
       "    <tr>\n",
       "      <td id=\"T_1501b_row3_col0\" class=\"data row3 col0\" >2022-02-11 20:03</td>\n",
       "      <td id=\"T_1501b_row3_col1\" class=\"data row3 col1\" > jake sullivan believes putin has decided to invade next week</td>\n",
       "    </tr>\n",
       "    <tr>\n",
       "      <td id=\"T_1501b_row4_col0\" class=\"data row4 col0\" >2022-02-11 11:34</td>\n",
       "      <td id=\"T_1501b_row4_col1\" class=\"data row4 col1\" > blinken warns russia can attack during the olympics</td>\n",
       "    </tr>\n",
       "  </tbody>\n",
       "</table>\n"
      ],
      "text/plain": [
       "<pandas.io.formats.style.Styler at 0x7f6b64035520>"
      ]
     },
     "execution_count": 3,
     "metadata": {},
     "output_type": "execute_result"
    }
   ],
   "source": [
    "# load events data\n",
    "d_events = get_timeline()\n",
    "dt_t = d_events.index[0]\n",
    "\n",
    "format_dataframe(d_events, tail=False)"
   ]
  },
  {
   "cell_type": "markdown",
   "id": "34cee7a9-08d9-4881-8ca0-143c26569a2c",
   "metadata": {},
   "source": [
    "### spot\n",
    "Spot quotes of USDRUB at 1-min frequency (GMT+1 time) are from Bloomberg."
   ]
  },
  {
   "cell_type": "code",
   "execution_count": 4,
   "id": "38c7b839-ecbd-40de-8b9c-e18655cfb249",
   "metadata": {},
   "outputs": [
    {
     "data": {
      "text/html": [
       "<style type=\"text/css\">\n",
       "</style>\n",
       "<table id=\"T_aba3c\">\n",
       "  <thead>\n",
       "    <tr>\n",
       "      <th id=\"T_aba3c_level0_col0\" class=\"col_heading level0 col0\" >date</th>\n",
       "      <th id=\"T_aba3c_level0_col1\" class=\"col_heading level0 col1\" >spot</th>\n",
       "    </tr>\n",
       "  </thead>\n",
       "  <tbody>\n",
       "    <tr>\n",
       "      <td id=\"T_aba3c_row0_col0\" class=\"data row0 col0\" >2022-02-28 16:46</td>\n",
       "      <td id=\"T_aba3c_row0_col1\" class=\"data row0 col1\" >109.50</td>\n",
       "    </tr>\n",
       "    <tr>\n",
       "      <td id=\"T_aba3c_row1_col0\" class=\"data row1 col0\" >2022-02-28 16:47</td>\n",
       "      <td id=\"T_aba3c_row1_col1\" class=\"data row1 col1\" >109.61</td>\n",
       "    </tr>\n",
       "    <tr>\n",
       "      <td id=\"T_aba3c_row2_col0\" class=\"data row2 col0\" >2022-02-28 16:48</td>\n",
       "      <td id=\"T_aba3c_row2_col1\" class=\"data row2 col1\" >109.54</td>\n",
       "    </tr>\n",
       "    <tr>\n",
       "      <td id=\"T_aba3c_row3_col0\" class=\"data row3 col0\" >2022-02-28 16:49</td>\n",
       "      <td id=\"T_aba3c_row3_col1\" class=\"data row3 col1\" >107.90</td>\n",
       "    </tr>\n",
       "    <tr>\n",
       "      <td id=\"T_aba3c_row4_col0\" class=\"data row4 col0\" >2022-02-28 16:50</td>\n",
       "      <td id=\"T_aba3c_row4_col1\" class=\"data row4 col1\" >107.82</td>\n",
       "    </tr>\n",
       "  </tbody>\n",
       "</table>\n"
      ],
      "text/plain": [
       "<pandas.io.formats.style.Styler at 0x7fcc69dc1f40>"
      ]
     },
     "execution_count": 4,
     "metadata": {},
     "output_type": "execute_result"
    }
   ],
   "source": [
    "# load spot data\n",
    "d_spot = get_spot_data()\n",
    "\n",
    "format_dataframe(d_spot.set_index(\"date\"), tail=True)"
   ]
  },
  {
   "cell_type": "code",
   "execution_count": 5,
   "id": "a11fa781-91bd-441e-aa27-3f766c23f363",
   "metadata": {},
   "outputs": [
    {
     "data": {
      "image/png": "[encoded data removed]",
      "text/plain": [
       "<Figure size 576x288 with 2 Axes>"
      ]
     },
     "metadata": {},
     "output_type": "display_data"
    }
   ],
   "source": [
    "# plot spot exchange rate dynamics\n",
    "plot_spot(d_spot.set_index(\"date\").squeeze())\n",
    "plt.show()"
   ]
  },
  {
   "cell_type": "markdown",
   "id": "2f810b18-589a-4cf6-bf25-86b8dae7a393",
   "metadata": {},
   "source": [
    "### forward\n",
    "1-month forward quotes are from Bloomberg:"
   ]
  },
  {
   "cell_type": "code",
   "execution_count": 6,
   "id": "2e0bbec1-e4b3-4123-bce7-caa7836ccdd9",
   "metadata": {
    "tags": []
   },
   "outputs": [
    {
     "data": {
      "text/html": [
       "<style type=\"text/css\">\n",
       "</style>\n",
       "<table id=\"T_7c0e9\">\n",
       "  <thead>\n",
       "    <tr>\n",
       "      <th id=\"T_7c0e9_level0_col0\" class=\"col_heading level0 col0\" >date</th>\n",
       "      <th id=\"T_7c0e9_level0_col1\" class=\"col_heading level0 col1\" >forward</th>\n",
       "    </tr>\n",
       "  </thead>\n",
       "  <tbody>\n",
       "    <tr>\n",
       "      <td id=\"T_7c0e9_row0_col0\" class=\"data row0 col0\" >2022-02-28 16:46</td>\n",
       "      <td id=\"T_7c0e9_row0_col1\" class=\"data row0 col1\" >112.64</td>\n",
       "    </tr>\n",
       "    <tr>\n",
       "      <td id=\"T_7c0e9_row1_col0\" class=\"data row1 col0\" >2022-02-28 16:47</td>\n",
       "      <td id=\"T_7c0e9_row1_col1\" class=\"data row1 col1\" >112.75</td>\n",
       "    </tr>\n",
       "    <tr>\n",
       "      <td id=\"T_7c0e9_row2_col0\" class=\"data row2 col0\" >2022-02-28 16:48</td>\n",
       "      <td id=\"T_7c0e9_row2_col1\" class=\"data row2 col1\" >112.69</td>\n",
       "    </tr>\n",
       "    <tr>\n",
       "      <td id=\"T_7c0e9_row3_col0\" class=\"data row3 col0\" >2022-02-28 16:49</td>\n",
       "      <td id=\"T_7c0e9_row3_col1\" class=\"data row3 col1\" >111.01</td>\n",
       "    </tr>\n",
       "    <tr>\n",
       "      <td id=\"T_7c0e9_row4_col0\" class=\"data row4 col0\" >2022-02-28 16:50</td>\n",
       "      <td id=\"T_7c0e9_row4_col1\" class=\"data row4 col1\" >110.92</td>\n",
       "    </tr>\n",
       "  </tbody>\n",
       "</table>\n"
      ],
      "text/plain": [
       "<pandas.io.formats.style.Styler at 0x7fcc60522640>"
      ]
     },
     "execution_count": 6,
     "metadata": {},
     "output_type": "execute_result"
    }
   ],
   "source": [
    "# load forward data\n",
    "d_forward = get_forward_data()\n",
    "\n",
    "format_dataframe(d_forward, tail=True)"
   ]
  },
  {
   "cell_type": "markdown",
   "id": "6658c38c-0b19-4660-add5-231d3b6fd546",
   "metadata": {},
   "source": [
    "### rates\n",
    "USD rates are 1-month OIS rates; RUB rates are implied from the covered interest rate parity for USDRUB:\n",
    "$$ F = S \\times \\frac{1 + r_{rub}}{1 + r_{usd}} $$"
   ]
  },
  {
   "cell_type": "code",
   "execution_count": 7,
   "id": "abe6936d-eeba-4b1d-89e8-7053a180be64",
   "metadata": {},
   "outputs": [
    {
     "data": {
      "image/png": "[encoded data removed]",
      "text/plain": [
       "<Figure size 576x396 with 2 Axes>"
      ]
     },
     "metadata": {},
     "output_type": "display_data"
    }
   ],
   "source": [
    "# interest rates data: 'rf' for the RUB rate, 'div_yield' for the USD rate.\n",
    "d_rates = get_rates_data()\n",
    "plot_rates(d_rates.set_index(\"date\"))\n",
    "plt.show()"
   ]
  },
  {
   "cell_type": "markdown",
   "id": "528e4649-dda2-422f-8758-3cd187f409b4",
   "metadata": {},
   "source": [
    "### option contracts\n",
    "\n",
    "FX options are quoted in terms of implied volatilities (henceforth \"IV\") of \"at-the-money\" contracts, as well as 10- and 25-delta \"butterfly spreads\" (aka \"market strangles\") and \"risk reversals\". The exact definitions of these differ between currency pairs, and I refer the reader to the excellent book [\"Foreign Exchange Option Pricing: A Practitioner's Guide\"](https://books.google.ch/books?id=7vua-0-2sgMC&redir_esc=y) by Iain Clark for further details. In what follows, `v_atm` references the at-the-money IV, `v_10b` (`v_25b`) &mdash; the IV of the 10-delta (25-delta) market strangle and `v_10r` (`v_25r`) &mdash; the IV of the 10-delta (25-delta) risk reversal."
   ]
  },
  {
   "cell_type": "code",
   "execution_count": 8,
   "id": "88505591-8eae-4cc3-ac68-0ccc1a224eda",
   "metadata": {},
   "outputs": [
    {
     "data": {
      "text/html": [
       "<style type=\"text/css\">\n",
       "</style>\n",
       "<table id=\"T_64955\">\n",
       "  <thead>\n",
       "    <tr>\n",
       "      <th id=\"T_64955_level0_col0\" class=\"col_heading level0 col0\" >date</th>\n",
       "      <th id=\"T_64955_level0_col1\" class=\"col_heading level0 col1\" >name</th>\n",
       "      <th id=\"T_64955_level0_col2\" class=\"col_heading level0 col2\" >value</th>\n",
       "    </tr>\n",
       "  </thead>\n",
       "  <tbody>\n",
       "    <tr>\n",
       "      <td id=\"T_64955_row0_col0\" class=\"data row0 col0\" >2022-02-28 16:44</td>\n",
       "      <td id=\"T_64955_row0_col1\" class=\"data row0 col1\" >v_10r</td>\n",
       "      <td id=\"T_64955_row0_col2\" class=\"data row0 col2\" >0.46</td>\n",
       "    </tr>\n",
       "    <tr>\n",
       "      <td id=\"T_64955_row1_col0\" class=\"data row1 col0\" >2022-02-28 16:44</td>\n",
       "      <td id=\"T_64955_row1_col1\" class=\"data row1 col1\" >v_25r</td>\n",
       "      <td id=\"T_64955_row1_col2\" class=\"data row1 col2\" >0.21</td>\n",
       "    </tr>\n",
       "    <tr>\n",
       "      <td id=\"T_64955_row2_col0\" class=\"data row2 col0\" >2022-02-28 16:44</td>\n",
       "      <td id=\"T_64955_row2_col1\" class=\"data row2 col1\" >v_atm</td>\n",
       "      <td id=\"T_64955_row2_col2\" class=\"data row2 col2\" >0.85</td>\n",
       "    </tr>\n",
       "    <tr>\n",
       "      <td id=\"T_64955_row3_col0\" class=\"data row3 col0\" >2022-02-28 16:44</td>\n",
       "      <td id=\"T_64955_row3_col1\" class=\"data row3 col1\" >v_25b</td>\n",
       "      <td id=\"T_64955_row3_col2\" class=\"data row3 col2\" >0.04</td>\n",
       "    </tr>\n",
       "    <tr>\n",
       "      <td id=\"T_64955_row4_col0\" class=\"data row4 col0\" >2022-02-28 16:44</td>\n",
       "      <td id=\"T_64955_row4_col1\" class=\"data row4 col1\" >v_10b</td>\n",
       "      <td id=\"T_64955_row4_col2\" class=\"data row4 col2\" >0.15</td>\n",
       "    </tr>\n",
       "  </tbody>\n",
       "</table>\n"
      ],
      "text/plain": [
       "<pandas.io.formats.style.Styler at 0x7fcc68573eb0>"
      ]
     },
     "execution_count": 8,
     "metadata": {},
     "output_type": "execute_result"
    }
   ],
   "source": [
    "# option contracts data\n",
    "d_opt = get_option_contracts_data()\n",
    "\n",
    "format_dataframe(d_opt.sort_values(\"date\"), tail=True)"
   ]
  },
  {
   "cell_type": "markdown",
   "id": "629fd3e7-8f5e-46ce-9a39-85e2f37cb9be",
   "metadata": {},
   "source": [
    "## estimating probability of invasion <a name=\"results\"></a>"
   ]
  },
  {
   "cell_type": "markdown",
   "id": "0e43d238-5795-43b5-97da-ea4f9f19c270",
   "metadata": {},
   "source": [
    "I present only the results of the calculations here. A detailed walkthrough is postponed to the [appendix](#walkthrough)."
   ]
  },
  {
   "cell_type": "code",
   "execution_count": 10,
   "id": "7bdc2554-5c2d-481b-b6cc-2725bd89c3ed",
   "metadata": {},
   "outputs": [],
   "source": [
    "# non-parametric density, integrated from different levels upwards\n",
    "fname = \"output/estimates/prob-nonparam.csv\"\n",
    "prob_np = pd.read_csv(fname, index_col=0, parse_dates=True)\\\n",
    "    .rename(columns=int)"
   ]
  },
  {
   "cell_type": "code",
   "execution_count": 11,
   "id": "b6d723c0-a8ae-46eb-9928-30ae8afee19d",
   "metadata": {},
   "outputs": [
    {
     "data": {
      "image/png": "[encoded data removed]",
      "text/plain": [
       "<Figure size 576x288 with 1 Axes>"
      ]
     },
     "metadata": {},
     "output_type": "display_data"
    }
   ],
   "source": [
    "# P[S > 85]\n",
    "thresh = 85\n",
    "plot_invasion_probability(prob_np.loc[:dt_t, thresh], show_invasion=True)\n",
    "plt.show()"
   ]
  },
  {
   "cell_type": "code",
   "execution_count": 12,
   "id": "f9922c7c-2b95-4031-bb1f-84b6fb75c63f",
   "metadata": {},
   "outputs": [
    {
     "data": {
      "image/png": "[encoded data removed]",
      "text/plain": [
       "<Figure size 576x288 with 1 Axes>"
      ]
     },
     "metadata": {},
     "output_type": "display_data"
    }
   ],
   "source": [
    "plot_invasion_probability_zoomed(prob_np.loc[:dt_t, thresh])\n",
    "plt.show()"
   ]
  },
  {
   "cell_type": "markdown",
   "id": "bb7d8e4d-91a2-42c0-8f02-829395bbb5f2",
   "metadata": {},
   "source": [
    "The probability of invasion is thus estimated at a level of 5-10% in the week leading to Putin's announcement, suddenly jumping to 25% in the day before it and remaining at that level until the news were broken."
   ]
  },
  {
   "cell_type": "markdown",
   "id": "34cea65f-0bca-46cd-bb22-96b73175ad77",
   "metadata": {},
   "source": [
    "Next, I check how this probability changed in response to the forebodings of US officials. In total, there were 4 of them, as listed in the [data section](#events)."
   ]
  },
  {
   "cell_type": "code",
   "execution_count": 14,
   "id": "46e0553c-469f-4ef9-99be-9000c9faf9f2",
   "metadata": {},
   "outputs": [
    {
     "data": {
      "image/png": "[encoded data removed]",
      "text/plain": [
       "<Figure size 576x288 with 1 Axes>"
      ]
     },
     "metadata": {},
     "output_type": "display_data"
    }
   ],
   "source": [
    "fig = plot_invasion_probability(prob_np.loc[\"2022-02-10\":\"2022-02-24\", thresh], show_invasion=False)\n",
    "for dt_, _ in d_events.iloc[1:].iterrows():\n",
    "    fig.gca().axvline(x=dt_, color=palette[2], alpha=0.5)\n",
    "plt.show()"
   ]
  },
  {
   "cell_type": "markdown",
   "id": "76a7d6f8-b5cd-464d-8d83-336af9d7eff1",
   "metadata": {},
   "source": [
    "# appendix"
   ]
  },
  {
   "cell_type": "markdown",
   "id": "304d951a-348f-4e4d-ad74-8821d61b70d8",
   "metadata": {},
   "source": [
    "## walkthrough: <a name=\"walkthrough\"></a>"
   ]
  },
  {
   "cell_type": "markdown",
   "id": "43ba65fc-0dba-43e1-ba58-f255bf75e61d",
   "metadata": {},
   "source": [
    "In what follows I will walk an interested reader through the calculations. First, let's load the data, merge everything and select one datetime &mdash; the one right before the announcement."
   ]
  },
  {
   "cell_type": "code",
   "execution_count": 4,
   "id": "64ae22f2-7d63-4032-ad14-3df61166b1fd",
   "metadata": {},
   "outputs": [
    {
     "data": {
      "text/html": [
       "<style type=\"text/css\">\n",
       "</style>\n",
       "<table id=\"T_fba5e\">\n",
       "  <thead>\n",
       "    <tr>\n",
       "      <th id=\"T_fba5e_level0_col0\" class=\"col_heading level0 col0\" >date</th>\n",
       "      <th id=\"T_fba5e_level0_col1\" class=\"col_heading level0 col1\" >v_10b</th>\n",
       "      <th id=\"T_fba5e_level0_col2\" class=\"col_heading level0 col2\" >v_10r</th>\n",
       "      <th id=\"T_fba5e_level0_col3\" class=\"col_heading level0 col3\" >v_25b</th>\n",
       "      <th id=\"T_fba5e_level0_col4\" class=\"col_heading level0 col4\" >v_25r</th>\n",
       "      <th id=\"T_fba5e_level0_col5\" class=\"col_heading level0 col5\" >v_atm</th>\n",
       "      <th id=\"T_fba5e_level0_col6\" class=\"col_heading level0 col6\" >spot</th>\n",
       "      <th id=\"T_fba5e_level0_col7\" class=\"col_heading level0 col7\" >forward</th>\n",
       "      <th id=\"T_fba5e_level0_col8\" class=\"col_heading level0 col8\" >div_yield</th>\n",
       "      <th id=\"T_fba5e_level0_col9\" class=\"col_heading level0 col9\" >rf</th>\n",
       "    </tr>\n",
       "  </thead>\n",
       "  <tbody>\n",
       "    <tr>\n",
       "      <td id=\"T_fba5e_row0_col0\" class=\"data row0 col0\" >2022-01-21 02:45</td>\n",
       "      <td id=\"T_fba5e_row0_col1\" class=\"data row0 col1\" >0.04</td>\n",
       "      <td id=\"T_fba5e_row0_col2\" class=\"data row0 col2\" >0.13</td>\n",
       "      <td id=\"T_fba5e_row0_col3\" class=\"data row0 col3\" >0.01</td>\n",
       "      <td id=\"T_fba5e_row0_col4\" class=\"data row0 col4\" >0.06</td>\n",
       "      <td id=\"T_fba5e_row0_col5\" class=\"data row0 col5\" >0.18</td>\n",
       "      <td id=\"T_fba5e_row0_col6\" class=\"data row0 col6\" >76.89</td>\n",
       "      <td id=\"T_fba5e_row0_col7\" class=\"data row0 col7\" >77.45</td>\n",
       "      <td id=\"T_fba5e_row0_col8\" class=\"data row0 col8\" >0.00</td>\n",
       "      <td id=\"T_fba5e_row0_col9\" class=\"data row0 col9\" >0.09</td>\n",
       "    </tr>\n",
       "  </tbody>\n",
       "</table>\n"
      ],
      "text/plain": [
       "<pandas.io.formats.style.Styler at 0x7f6b07284ca0>"
      ]
     },
     "execution_count": 4,
     "metadata": {},
     "output_type": "execute_result"
    }
   ],
   "source": [
    "# data\n",
    "d_option = get_option_contracts_data()\n",
    "d_forward = get_forward_data()\n",
    "d_spot = get_spot_data()\n",
    "d_rates = get_rates_data()\n",
    "\n",
    "# pivot, merge to have all necessary values for each date ready\n",
    "data = pd.concat(\n",
    "    (d_option.pivot(\"date\", \"name\", \"value\"),\n",
    "     d_spot.set_index(\"date\"),\n",
    "     d_forward.set_index(\"date\"), \n",
    "     d_rates.set_index(\"date\")),\n",
    "    axis=1\n",
    ")\n",
    "data = data.dropna()\n",
    "\n",
    "# select one little chunk\n",
    "chunk = data.iloc[[1500]]\n",
    "\n",
    "format_dataframe(chunk)"
   ]
  },
  {
   "cell_type": "markdown",
   "id": "d204ffb5-e60b-4986-9fbf-3653ea8f564f",
   "metadata": {},
   "source": [
    "These values are sufficient to estimate the risk-neutral density. For that, as mentioned in the main part, the option pricing function is needed. I define it to be, for any strike $K$, the Black-Scholes formula evaluated at the fitted implied volatility at that level of $K$; the volatility itself is a function of $K$, specifically, the fitted value of a SABR smile calibrated to the observed quotes of option contracts: \n",
    "$$C(S, K), \\ldots = C^{bs}(S, \\hat{\\sigma}(K), K, \\ldots).$$\n",
    "The calibration process is tricky, as described in ch. 3.7.1 of [Clark (2011)](https://books.google.ch/books?id=7vua-0-2sgMC&redir_esc=y). Conventions such as at-the-money definition are taken from Bloomberg.\n",
    "\n",
    "One thing to note is that the span of strike prices (implicitly) covered by the contracts is usually very narrow and does not extend into the interesting tail regions; this is yet another reason to take the estimates with a grain of salt."
   ]
  },
  {
   "cell_type": "markdown",
   "id": "608dc32e-4c35-4430-a8d6-16cca57e4331",
   "metadata": {},
   "source": [
    "Anyway, let's calibrate the SABR model to the chunk of data above:"
   ]
  },
  {
   "cell_type": "code",
   "execution_count": 5,
   "id": "dbe0a7dd-c381-4178-819b-55ee5aa75823",
   "metadata": {},
   "outputs": [
    {
     "data": {
      "image/png": "[encoded data removed]",
      "text/plain": [
       "<Figure size 576x396 with 1 Axes>"
      ]
     },
     "metadata": {},
     "output_type": "display_data"
    }
   ],
   "source": [
    "from optools.volsmile import SABR\n",
    "\n",
    "# make Series for easier indexing\n",
    "chunk = chunk.T.squeeze()\n",
    "\n",
    "# fit\n",
    "sabr = SABR.fit_to_fx(\n",
    "    tau=TAU,\n",
    "    v_atm=chunk[\"v_atm\"],\n",
    "    contracts={0.1: {\"ms\": chunk[\"v_10b\"],\n",
    "                     \"rr\": chunk[\"v_10r\"]},\n",
    "               0.25: {\"ms\": chunk[\"v_25b\"],\n",
    "                      \"rr\": chunk[\"v_25r\"]}},\n",
    "    delta_conventions={\"atm_def\": \"dns\",\n",
    "                       \"is_premiumadj\": True,\n",
    "                       \"is_forward\": False},\n",
    "    **chunk[[\"spot\", \"forward\", \"rf\", \"div_yield\"]]\n",
    ")\n",
    "\n",
    "# plot\n",
    "fig, ax = sabr.plot(domain=np.arange(50, 100, 1e-04))\n",
    "ax.set_xlabel(\"strike\")\n",
    "ax.set_ylabel(\"iv\")\n",
    "plt.show()"
   ]
  },
  {
   "cell_type": "markdown",
   "id": "151a2d8b-d99a-4079-bb71-56dbf38516fa",
   "metadata": {},
   "source": [
    "`sabr` object above is a callable that computes the IV for a given $K$. Now, it is possible to define the option pricing function $C^{bs}(S, \\hat{\\sigma}(K), K, \\ldots)$ as a function of $K$ only:"
   ]
  },
  {
   "cell_type": "code",
   "execution_count": 6,
   "id": "8ecda3f2-0323-499d-a4dd-6830bfa31928",
   "metadata": {},
   "outputs": [
    {
     "name": "stdout",
     "output_type": "stream",
     "text": [
      "[0.42714335 0.08884317 0.03326312]\n"
     ]
    }
   ],
   "source": [
    "from optools.blackscholes import option_price as bs_price\n",
    "\n",
    "sigma_hat = sabr  # enters the function below\n",
    "\n",
    "def call_pricer(x_):\n",
    "    \"\"\"Get price of call option at a given strike.\n",
    "    \n",
    "    NB: takes global variable `data` defined above as input!\n",
    "    \"\"\"\n",
    "    rf = data[\"rf\"].iloc[0]\n",
    "    \n",
    "    # these are the same for any iloc in `data`\n",
    "    forward = data[\"forward\"].iloc[0]\n",
    "    div_yield = data[\"div_yield\"].iloc[0]\n",
    "    rf = data[\"rf\"].iloc[0]\n",
    "    \n",
    "    f = bs_price(strike=x_, vola=sigma_hat(x_), forward=forward,\n",
    "                 div_yield=div_yield, rf=rf,\n",
    "                 tau=TAU, is_call=True)\n",
    "    \n",
    "    return f\n",
    "\n",
    "# example\n",
    "print(call_pricer(np.array([80, 90, 100.0])))"
   ]
  },
  {
   "cell_type": "markdown",
   "id": "ff15af18-d876-4c2a-9536-342dab70e331",
   "metadata": {},
   "source": [
    "This function can be differentiated twice to arrive at the density. Below, I define a function to return the density at point `s`:"
   ]
  },
  {
   "cell_type": "code",
   "execution_count": 7,
   "id": "f18a7c9b-6430-44b4-a98a-962ea53c9315",
   "metadata": {},
   "outputs": [
    {
     "name": "stdout",
     "output_type": "stream",
     "text": [
      "0.0056\n"
     ]
    }
   ],
   "source": [
    "from scipy.misc import derivative\n",
    "\n",
    "def density_estimator(s):\n",
    "    \"\"\"Get density at point `s`.\n",
    "    \n",
    "    Evaluates the second-order derivative of `call_pricer`.\n",
    "    \n",
    "    NB: takes global variables `call_pricer` and `data` defined above as input!\n",
    "    \n",
    "    \"\"\"\n",
    "    res = derivative(call_pricer, s, dx=1e-04, n=2) \\\n",
    "        * np.exp(chunk[\"rf\"] * TAU)\n",
    "    \n",
    "    return res\n",
    "\n",
    "# example\n",
    "print(np.round(density_estimator(85.0), 4))"
   ]
  },
  {
   "cell_type": "markdown",
   "id": "9cc8716a-aa87-4a59-b83e-d634f96a3314",
   "metadata": {},
   "source": [
    "Finally, to arrive at the probability of the spot rate exceeding a threshold, e.g. 85, at options' expiration, I integrate the density from this threshold to ~infinity~ a large value:"
   ]
  },
  {
   "cell_type": "code",
   "execution_count": 8,
   "id": "e00023bb-218e-4bba-8f16-ccf2c5d7b473",
   "metadata": {},
   "outputs": [
    {
     "name": "stdout",
     "output_type": "stream",
     "text": [
      "0.0266\n"
     ]
    }
   ],
   "source": [
    "from scipy.integrate import simps\n",
    "\n",
    "# domain of integration (step size of 1e-04)\n",
    "thresh = 85.0\n",
    "x = np.arange(thresh, 200, 1e-04)\n",
    "\n",
    "# integrate\n",
    "prob = simps(density_estimator(x), x)\n",
    "print(np.round(prob, 4))"
   ]
  }
 ],
 "metadata": {
  "kernelspec": {
   "display_name": "fx-options",
   "language": "python",
   "name": "fx-options"
  },
  "language_info": {
   "codemirror_mode": {
    "name": "ipython",
    "version": 3
   },
   "file_extension": ".py",
   "mimetype": "text/x-python",
   "name": "python",
   "nbconvert_exporter": "python",
   "pygments_lexer": "ipython3",
   "version": "3.8.10"
  }
 },
 "nbformat": 4,
 "nbformat_minor": 5
}
