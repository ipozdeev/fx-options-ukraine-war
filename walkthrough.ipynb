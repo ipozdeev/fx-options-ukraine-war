{
 "cells": [
  {
   "cell_type": "code",
   "execution_count": 1,
   "id": "a673e7e5-9f6a-4f5f-9ab9-5a09b6737288",
   "metadata": {},
   "outputs": [],
   "source": [
    "import matplotlib.lines as mlines\n",
    "import matplotlib.pyplot as plt\n",
    "\n",
    "from src.setup import *\n",
    "from src.datafeed_ import *"
   ]
  },
  {
   "cell_type": "code",
   "execution_count": 2,
   "id": "f1f12a01-1def-4056-8f5d-65ae1489bb1c",
   "metadata": {},
   "outputs": [],
   "source": [
    "# settings\n",
    "palette = plt.rcParams['axes.prop_cycle'].by_key()['color']\n",
    "\n",
    "def format_dataframe(df_: pd.DataFrame, tail=True):\n",
    "    \"\"\"A little formatter helper.\"\"\"\n",
    "    if tail:\n",
    "        return format_dataframe(df_.tail(), tail=False)\n",
    "    if df_.columns.nlevels > 1:\n",
    "        col_key = (\"date\", \"\")\n",
    "    else:\n",
    "        col_key = \"date\"\n",
    "    res_ = df_.reset_index()\\\n",
    "        .style.format(formatter={col_key: lambda x: x.strftime(\"%Y-%m-%d %H:%M\")},\n",
    "                      precision=2)\\\n",
    "        .hide(axis=0)\n",
    "    return res_\n"
   ]
  },
  {
   "cell_type": "markdown",
   "id": "593106bd-70e2-45f3-8e0b-5c95254bc6ac",
   "metadata": {},
   "source": [
    "# data\n",
    "Spot quotes of USDRUB at 1-min frequency (GMT+1 time) are from Bloomberg. Events and their timestamps (GMT+1) are from Bloomberg."
   ]
  },
  {
   "cell_type": "code",
   "execution_count": 9,
   "id": "38c7b839-ecbd-40de-8b9c-e18655cfb249",
   "metadata": {},
   "outputs": [
    {
     "data": {
      "text/html": [
       "<style type=\"text/css\">\n",
       "</style>\n",
       "<table id=\"T_a125f\">\n",
       "  <thead>\n",
       "    <tr>\n",
       "      <th id=\"T_a125f_level0_col0\" class=\"col_heading level0 col0\" >date</th>\n",
       "      <th id=\"T_a125f_level0_col1\" class=\"col_heading level0 col1\" >value</th>\n",
       "    </tr>\n",
       "  </thead>\n",
       "  <tbody>\n",
       "    <tr>\n",
       "      <td id=\"T_a125f_row0_col0\" class=\"data row0 col0\" >2022-02-28 16:46</td>\n",
       "      <td id=\"T_a125f_row0_col1\" class=\"data row0 col1\" >109.50</td>\n",
       "    </tr>\n",
       "    <tr>\n",
       "      <td id=\"T_a125f_row1_col0\" class=\"data row1 col0\" >2022-02-28 16:47</td>\n",
       "      <td id=\"T_a125f_row1_col1\" class=\"data row1 col1\" >109.61</td>\n",
       "    </tr>\n",
       "    <tr>\n",
       "      <td id=\"T_a125f_row2_col0\" class=\"data row2 col0\" >2022-02-28 16:48</td>\n",
       "      <td id=\"T_a125f_row2_col1\" class=\"data row2 col1\" >109.54</td>\n",
       "    </tr>\n",
       "    <tr>\n",
       "      <td id=\"T_a125f_row3_col0\" class=\"data row3 col0\" >2022-02-28 16:49</td>\n",
       "      <td id=\"T_a125f_row3_col1\" class=\"data row3 col1\" >107.90</td>\n",
       "    </tr>\n",
       "    <tr>\n",
       "      <td id=\"T_a125f_row4_col0\" class=\"data row4 col0\" >2022-02-28 16:50</td>\n",
       "      <td id=\"T_a125f_row4_col1\" class=\"data row4 col1\" >107.82</td>\n",
       "    </tr>\n",
       "  </tbody>\n",
       "</table>\n"
      ],
      "text/plain": [
       "<pandas.io.formats.style.Styler at 0x7f29614bc1f0>"
      ]
     },
     "execution_count": 9,
     "metadata": {},
     "output_type": "execute_result"
    }
   ],
   "source": [
    "# load spot data\n",
    "d_spot = get_spot_data()\n",
    "\n",
    "format_dataframe(d_spot.set_index(\"date\"), tail=True)"
   ]
  },
  {
   "cell_type": "code",
   "execution_count": 5,
   "id": "a1af759c-8334-4c15-855f-00065442f360",
   "metadata": {},
   "outputs": [
    {
     "data": {
      "text/html": [
       "<style type=\"text/css\">\n",
       "</style>\n",
       "<table id=\"T_b6bb3\">\n",
       "  <thead>\n",
       "    <tr>\n",
       "      <th id=\"T_b6bb3_level0_col0\" class=\"col_heading level0 col0\" >date</th>\n",
       "      <th id=\"T_b6bb3_level0_col1\" class=\"col_heading level0 col1\" > event</th>\n",
       "    </tr>\n",
       "  </thead>\n",
       "  <tbody>\n",
       "    <tr>\n",
       "      <td id=\"T_b6bb3_row0_col0\" class=\"data row0 col0\" >2022-02-24 04:06</td>\n",
       "      <td id=\"T_b6bb3_row0_col1\" class=\"data row0 col1\" > putin announces special military operation</td>\n",
       "    </tr>\n",
       "    <tr>\n",
       "      <td id=\"T_b6bb3_row1_col0\" class=\"data row1 col0\" >2022-02-18 22:58</td>\n",
       "      <td id=\"T_b6bb3_row1_col1\" class=\"data row1 col1\" > biden warns russia planning attack in coming days</td>\n",
       "    </tr>\n",
       "    <tr>\n",
       "      <td id=\"T_b6bb3_row2_col0\" class=\"data row2 col0\" >2022-02-17 15:19</td>\n",
       "      <td id=\"T_b6bb3_row2_col1\" class=\"data row2 col1\" > biden estimate prob of invasion as very high</td>\n",
       "    </tr>\n",
       "    <tr>\n",
       "      <td id=\"T_b6bb3_row3_col0\" class=\"data row3 col0\" >2022-02-11 20:03</td>\n",
       "      <td id=\"T_b6bb3_row3_col1\" class=\"data row3 col1\" > jake sullivan believes putin has decided to invade next week</td>\n",
       "    </tr>\n",
       "    <tr>\n",
       "      <td id=\"T_b6bb3_row4_col0\" class=\"data row4 col0\" >2022-02-11 11:34</td>\n",
       "      <td id=\"T_b6bb3_row4_col1\" class=\"data row4 col1\" > blinken warns russia can attack during the olympics</td>\n",
       "    </tr>\n",
       "  </tbody>\n",
       "</table>\n"
      ],
      "text/plain": [
       "<pandas.io.formats.style.Styler at 0x7f2939b6efa0>"
      ]
     },
     "execution_count": 5,
     "metadata": {},
     "output_type": "execute_result"
    }
   ],
   "source": [
    "# load events data\n",
    "d_events = get_timeline()\n",
    "\n",
    "format_dataframe(d_events, tail=False)"
   ]
  },
  {
   "cell_type": "code",
   "execution_count": 12,
   "id": "a11fa781-91bd-441e-aa27-3f766c23f363",
   "metadata": {},
   "outputs": [
    {
     "data": {
      "image/png": "[encoded data removed]",
      "text/plain": [
       "<Figure size 576x288 with 2 Axes>"
      ]
     },
     "metadata": {},
     "output_type": "display_data"
    }
   ],
   "source": [
    "# plot dynamics\n",
    "to_plot = d_spot.set_index(\"date\").squeeze().rename(\"usdrub\")\n",
    "dt_t = d_events.index[0]\n",
    "\n",
    "fig, ax = plt.subplots(1, 2, sharey=True, figsize=(8, 4))\n",
    "ax[0].set_title(\"feb 15th - 28th\")\n",
    "ax[0].set_ylabel(\"usdrub\")\n",
    "ax[1].set_title(\"feb 24th\")\n",
    "\n",
    "to_plot.loc[\"2022-02-15\":].plot(ax=ax[0])\n",
    "to_plot.loc[\"2022-02-23 18:00\":\"2022-02-24\"].plot(ax=ax[1])\n",
    "for ax_ in ax:\n",
    "    ax_.axvline(x=dt_t, color=\"r\", label=\"announcement\", alpha=0.5)\n",
    "\n",
    "# legend\n",
    "leg_handles = [\n",
    "    mlines.Line2D([], [], color=palette[0], label=\"spot rate\"),\n",
    "    mlines.Line2D([], [], color=\"r\", label=\"announcement\")\n",
    "]\n",
    "ax[1].legend(handles=leg_handles)\n",
    "\n",
    "fig.tight_layout()\n",
    "plt.show()"
   ]
  },
  {
   "cell_type": "code",
   "execution_count": null,
   "id": "deb5653d-df42-4c89-b13a-d5cd7c8b3a44",
   "metadata": {},
   "outputs": [],
   "source": []
  }
 ],
 "metadata": {
  "kernelspec": {
   "display_name": "fx-options",
   "language": "python",
   "name": "fx-options"
  },
  "language_info": {
   "codemirror_mode": {
    "name": "ipython",
    "version": 3
   },
   "file_extension": ".py",
   "mimetype": "text/x-python",
   "name": "python",
   "nbconvert_exporter": "python",
   "pygments_lexer": "ipython3",
   "version": "3.8.10"
  }
 },
 "nbformat": 4,
 "nbformat_minor": 5
}
